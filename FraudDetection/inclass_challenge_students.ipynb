{
 "cells": [
  {
   "cell_type": "markdown",
   "metadata": {},
   "source": [
    "# Credit Card Fraud Detection Challenge at Silverleaf National Bank\n",
    "\n",
    "## The Situation\n",
    "It's 9:15 AM at Silverleaf National Bank's headquarters. You've just left an emergency meeting where the Head of Security revealed alarming statistics: a 47% increase in credit card fraud cases over the last quarter, resulting in $2.3 million in losses. The CEO has given your team 48 hours to develop a solution.\n",
    "\n",
    "## Your Mission\n",
    "As the lead data scientist, you must develop a machine learning model to detect fraudulent transactions in real-time. You have access to a historical dataset of 100,000 transactions, each labeled as fraudulent or legitimate.\n",
    "\n",
    "## Time Allocation (2 hours total):\n",
    "- EDA & Visualization: 40 minutes\n",
    "- Data Preprocessing: 20 minutes\n",
    "- Model Building & Evaluation: 40 minutes\n",
    "- Making & Saving Predictions: 20 minutes\n",
    "\n",
    "## Grading:\n",
    "- EDA (25 points)\n",
    "- Data Preprocessing (25 points)\n",
    "- Model Building & Evaluation (25 points)\n",
    "- Test Predictions (25 points)\n",
    "- Bonus Points (10 points)\n",
    "\n",
    "Let's save the bank!"
   ]
  },
  {
   "cell_type": "code",
   "metadata": {},
   "source": [
    "%pip install pandas numpy scikit-learn matplotlib seaborn plotly nbformat"
   ],
   "outputs": [],
   "execution_count": null
  },
  {
   "cell_type": "code",
   "metadata": {},
   "source": [
    "import os\n",
    "import requests\n",
    "\n",
    "import pandas as pd\n",
    "import numpy as np\n",
    "from sklearn.model_selection import train_test_split\n",
    "from sklearn.preprocessing import StandardScaler, LabelEncoder\n",
    "from sklearn.metrics import classification_report, confusion_matrix, roc_curve, auc\n",
    "import matplotlib.pyplot as plt\n",
    "import seaborn as sns\n",
    "import plotly.express as px\n",
    "import plotly.graph_objects as go\n",
    "\n",
    "# Set random seed for reproducibility\n",
    "np.random.seed(42)\n",
    "# Configure plots for better visibility\n",
    "plt.rcParams['figure.figsize'] = [10, 6]\n",
    "plt.rcParams['font.size'] = 12\n",
    "\n",
    "thePath = './'  # Adjust this path as necessary\n",
    "theLinkTrain = \"https://dse200.dev/Day3/fraud_training.csv\"\n",
    "theFileTrain = \"fraud_training.csv\"\n",
    "\n",
    "theLinkTest = \"https://dse200.dev/Day3/fraud_test.csv\"\n",
    "theFileTest = \"fraud_test.csv\"\n",
    "\n",
    "\n",
    "if not os.path.exists(thePath + theFileTrain):\n",
    "    r = requests.get(theLinkTrain)\n",
    "    with open(thePath + theFileTrain, 'wb') as f:\n",
    "        f.write(r.content)\n",
    "\n",
    "if not os.path.exists(thePath + theFileTest):\n",
    "    r = requests.get(theLinkTest)\n",
    "    with open(thePath + theFileTest, 'wb') as f:\n",
    "        f.write(r.content)\n"
   ],
   "outputs": [],
   "execution_count": null
  },
  {
   "cell_type": "markdown",
   "metadata": {},
   "source": [
    "# Part 1: Exploratory Data Analysis (EDA) - 25 points\n",
    "\n",
    "Load the training data and create the following visualizations:\n",
    "\n",
    "1. Required Visualizations (15 points):\n",
    "   - Chart showing fraud vs. non-fraud distribution\n",
    "   - Box plot comparing transaction amounts for fraudulent vs. non-fraudulent cases\n",
    "   - Heatmap showing correlations between numeric features\n",
    "\n",
    "2. Choose TWO from these options (10 points):\n",
    "   - Time series plot of fraud occurrences\n",
    "   - Geographic distribution of fraud cases\n",
    "   - Transaction type analysis\n",
    "   - Merchant risk analysis\n",
    "\n",
    "For each visualization, write 2-3 sentences explaining your insights."
   ]
  },
  {
   "cell_type": "code",
   "metadata": {},
   "source": [
    "# Load the data\n",
    "df_train = pd.read_csv(thePath + theFileTrain)\n",
    "\n",
    "# Display basic information about the dataset\n",
    "print(\"Dataset Shape:\", df_train.shape)\n",
    "print(\"\\nDataset Info:\")\n",
    "df_train.info()\n",
    "print(\"\\nMissing Values:\")\n",
    "print(df_train.isnull().sum())"
   ],
   "outputs": [],
   "execution_count": null
  },
  {
   "cell_type": "code",
   "metadata": {},
   "source": [
    "# Required Visualization 1: Fraud Distribution\n",
    "# Create a chart showing the distribution of fraudulent vs non-fraudulent transactions\n",
    "# Your code here\n"
   ],
   "outputs": [],
   "execution_count": null
  },
  {
   "cell_type": "code",
   "metadata": {},
   "source": [
    "# Required Visualization 2: Transaction Amount Analysis\n",
    "# Create a box plot comparing transaction amounts\n",
    "# Your code here\n"
   ],
   "outputs": [],
   "execution_count": null
  },
  {
   "cell_type": "code",
   "metadata": {},
   "source": [
    "# Required Visualization 3: Correlation Heatmap\n",
    "# Create a correlation heatmap for numeric features\n",
    "# Your code here\n"
   ],
   "outputs": [],
   "execution_count": null
  },
  {
   "cell_type": "code",
   "metadata": {},
   "source": [
    "# Choose two additional visualizations from the options provided\n",
    "# Your code here\n"
   ],
   "outputs": [],
   "execution_count": null
  },
  {
   "cell_type": "markdown",
   "metadata": {},
   "source": [
    "# Part 2: Data Preprocessing - 25 points\n",
    "\n",
    "Prepare your data for modeling:\n",
    "\n",
    "1. Handle missing values appropriately (5 points)\n",
    "2. Convert categorical variables (10 points):\n",
    "   - TransactionType\n",
    "   - Location\n",
    "   - Add any creative feature engineering (bonus)\n",
    "3Split your data (5 points)"
   ]
  },
  {
   "cell_type": "code",
   "metadata": {},
   "source": [
    "# Handle missing values\n",
    "# Your code here\n"
   ],
   "outputs": [],
   "execution_count": null
  },
  {
   "cell_type": "code",
   "metadata": {},
   "source": [
    "# Convert categorical variables\n",
    "# Your code here\n"
   ],
   "outputs": [],
   "execution_count": null
  },
  {
   "cell_type": "code",
   "metadata": {},
   "source": [
    "# split data\n",
    "# Your code here\n"
   ],
   "outputs": [],
   "execution_count": null
  },
  {
   "cell_type": "markdown",
   "metadata": {},
   "source": [
    "# Part 3: Model Building & Evaluation - 25 points\n",
    "\n",
    "Build and evaluate your fraud detection model:\n",
    "\n",
    "1. Train at least one model (Start with Logistic Regression) - 15 points\n",
    "2. Create these visualizations:\n",
    "   - ROC curve\n",
    "   - Confusion matrix heatmap\n",
    "   - Feature importance plot\n",
    "3. Print classification report\n",
    "4. Evaluate the model, look at the data precision and recall for fraud (1) are you getting good predictions? If not why? Make sure to fix before heading to next part"
   ]
  },
  {
   "cell_type": "code",
   "metadata": {},
   "source": [
    "# Train your model(s)\n",
    "# Your code here\n"
   ],
   "outputs": [],
   "execution_count": null
  },
  {
   "cell_type": "code",
   "metadata": {},
   "source": [
    "# Create evaluation visualizations\n",
    "# Your code here\n"
   ],
   "outputs": [],
   "execution_count": null
  },
  {
   "cell_type": "markdown",
   "metadata": {},
   "source": [
    "# Part 4: Making Predictions - 25 points\n",
    "\n",
    "1. Load and preprocess the test data\n",
    "2. Make predictions\n",
    "3. Save results in the correct format\n",
    "4. Document your code"
   ]
  },
  {
   "cell_type": "code",
   "metadata": {},
   "source": [
    "# Load and preprocess test data\n",
    "# Your code here\n"
   ],
   "outputs": [],
   "execution_count": null
  },
  {
   "cell_type": "code",
   "metadata": {},
   "source": [
    "# Make and save predictions\n",
    "# Your code here\n"
   ],
   "outputs": [],
   "execution_count": null
  },
  {
   "cell_type": "markdown",
   "metadata": {},
   "source": [
    "# Bonus Section (10 points)\n",
    "\n",
    "Choose at least one:\n",
    "1. Feature Engineering: Create meaningful new features\n",
    "2. Model Comparison: Compare at least 3 different models\n",
    "3. Advanced Visualization: Create an interactive dashboard using Plotly"
   ]
  },
  {
   "cell_type": "code",
   "metadata": {},
   "source": [
    "# Bonus work\n",
    "# Your code here\n"
   ],
   "outputs": [],
   "execution_count": null
  }
 ],
 "metadata": {
  "kernelspec": {
   "display_name": "Python 3",
   "language": "python",
   "name": "python3"
  },
  "language_info": {
   "codemirror_mode": {
    "name": "ipython",
    "version": 3
   },
   "file_extension": ".py",
   "mimetype": "text/x-python",
   "name": "python",
   "nbconvert_exporter": "python",
   "pygments_lexer": "ipython3",
   "version": "3.8.0"
  }
 },
 "nbformat": 4,
 "nbformat_minor": 4
}
