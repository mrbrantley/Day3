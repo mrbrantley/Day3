{
  "cells": [
    {
      "cell_type": "code",
      "metadata": {
        "id": "tKxa3mRqrdqL",
        "outputId": "4bef86f4-152c-43f8-8b8b-7fab608e5865",
        "colab": {
          "base_uri": "https://localhost:8080/"
        }
      },
      "source": [
        "%pip install numpy pandas matplotlib seaborn scipy scikit-learn kagglehub"
      ],
      "outputs": [
        {
          "output_type": "stream",
          "name": "stdout",
          "text": [
            "Requirement already satisfied: numpy in /usr/local/lib/python3.12/dist-packages (2.0.2)\n",
            "Requirement already satisfied: pandas in /usr/local/lib/python3.12/dist-packages (2.2.2)\n",
            "Requirement already satisfied: matplotlib in /usr/local/lib/python3.12/dist-packages (3.10.0)\n",
            "Requirement already satisfied: seaborn in /usr/local/lib/python3.12/dist-packages (0.13.2)\n",
            "Requirement already satisfied: scipy in /usr/local/lib/python3.12/dist-packages (1.16.2)\n",
            "Requirement already satisfied: scikit-learn in /usr/local/lib/python3.12/dist-packages (1.6.1)\n",
            "Requirement already satisfied: kagglehub in /usr/local/lib/python3.12/dist-packages (0.3.13)\n",
            "Requirement already satisfied: python-dateutil>=2.8.2 in /usr/local/lib/python3.12/dist-packages (from pandas) (2.9.0.post0)\n",
            "Requirement already satisfied: pytz>=2020.1 in /usr/local/lib/python3.12/dist-packages (from pandas) (2025.2)\n",
            "Requirement already satisfied: tzdata>=2022.7 in /usr/local/lib/python3.12/dist-packages (from pandas) (2025.2)\n",
            "Requirement already satisfied: contourpy>=1.0.1 in /usr/local/lib/python3.12/dist-packages (from matplotlib) (1.3.3)\n",
            "Requirement already satisfied: cycler>=0.10 in /usr/local/lib/python3.12/dist-packages (from matplotlib) (0.12.1)\n",
            "Requirement already satisfied: fonttools>=4.22.0 in /usr/local/lib/python3.12/dist-packages (from matplotlib) (4.60.1)\n",
            "Requirement already satisfied: kiwisolver>=1.3.1 in /usr/local/lib/python3.12/dist-packages (from matplotlib) (1.4.9)\n",
            "Requirement already satisfied: packaging>=20.0 in /usr/local/lib/python3.12/dist-packages (from matplotlib) (25.0)\n",
            "Requirement already satisfied: pillow>=8 in /usr/local/lib/python3.12/dist-packages (from matplotlib) (11.3.0)\n",
            "Requirement already satisfied: pyparsing>=2.3.1 in /usr/local/lib/python3.12/dist-packages (from matplotlib) (3.2.5)\n",
            "Requirement already satisfied: joblib>=1.2.0 in /usr/local/lib/python3.12/dist-packages (from scikit-learn) (1.5.2)\n",
            "Requirement already satisfied: threadpoolctl>=3.1.0 in /usr/local/lib/python3.12/dist-packages (from scikit-learn) (3.6.0)\n",
            "Requirement already satisfied: pyyaml in /usr/local/lib/python3.12/dist-packages (from kagglehub) (6.0.3)\n",
            "Requirement already satisfied: requests in /usr/local/lib/python3.12/dist-packages (from kagglehub) (2.32.4)\n",
            "Requirement already satisfied: tqdm in /usr/local/lib/python3.12/dist-packages (from kagglehub) (4.67.1)\n",
            "Requirement already satisfied: six>=1.5 in /usr/local/lib/python3.12/dist-packages (from python-dateutil>=2.8.2->pandas) (1.17.0)\n",
            "Requirement already satisfied: charset_normalizer<4,>=2 in /usr/local/lib/python3.12/dist-packages (from requests->kagglehub) (3.4.4)\n",
            "Requirement already satisfied: idna<4,>=2.5 in /usr/local/lib/python3.12/dist-packages (from requests->kagglehub) (3.11)\n",
            "Requirement already satisfied: urllib3<3,>=1.21.1 in /usr/local/lib/python3.12/dist-packages (from requests->kagglehub) (2.5.0)\n",
            "Requirement already satisfied: certifi>=2017.4.17 in /usr/local/lib/python3.12/dist-packages (from requests->kagglehub) (2025.10.5)\n"
          ]
        }
      ],
      "execution_count": 1
    },
    {
      "cell_type": "code",
      "metadata": {
        "id": "VUNUBEVYrdqM"
      },
      "source": [
        "import kagglehub\n",
        "import numpy as np\n",
        "import pandas as pd\n",
        "import matplotlib.pyplot as plt\n",
        "import seaborn as sns\n",
        "from scipy import stats"
      ],
      "outputs": [],
      "execution_count": 3
    },
    {
      "cell_type": "code",
      "metadata": {
        "id": "ypQTo2S3rdqM",
        "outputId": "b783f11f-95e7-48f0-d52d-cc183bcc8d57",
        "colab": {
          "base_uri": "https://localhost:8080/"
        }
      },
      "source": [
        "# Download latest version\n",
        "path = kagglehub.dataset_download(\"ihormuliar/starbucks-customer-data\")\n",
        "\n",
        "print(\"Path to dataset files:\", path)\n",
        "\n",
        "# portfolio.csv\n",
        "portfolio_df = pd.read_csv(path + \"/portfolio.csv\")\n",
        "\n",
        "# profile.csv\n",
        "profile_df = pd.read_csv(path + \"/profile.csv\")\n",
        "\n",
        "# transcript.csv\n",
        "transcript_df = pd.read_csv(path + \"/transcript.csv\")"
      ],
      "outputs": [
        {
          "output_type": "stream",
          "name": "stdout",
          "text": [
            "Downloading from https://www.kaggle.com/api/v1/datasets/download/ihormuliar/starbucks-customer-data?dataset_version_number=1...\n"
          ]
        },
        {
          "output_type": "stream",
          "name": "stderr",
          "text": [
            "100%|██████████| 7.38M/7.38M [00:00<00:00, 150MB/s]"
          ]
        },
        {
          "output_type": "stream",
          "name": "stdout",
          "text": [
            "Extracting files...\n"
          ]
        },
        {
          "output_type": "stream",
          "name": "stderr",
          "text": [
            "\n"
          ]
        },
        {
          "output_type": "stream",
          "name": "stdout",
          "text": [
            "Path to dataset files: /root/.cache/kagglehub/datasets/ihormuliar/starbucks-customer-data/versions/1\n"
          ]
        }
      ],
      "execution_count": 4
    },
    {
      "cell_type": "code",
      "metadata": {
        "id": "cHxruLZDrdqN",
        "outputId": "8993a976-c904-454c-bc9a-d94abb69396c",
        "colab": {
          "base_uri": "https://localhost:8080/"
        }
      },
      "source": [
        "# portfolio.csv\n",
        "# portfolio_df.head()\n",
        "print(f\"Portfolio Shape: {portfolio_df.shape}\")\n",
        "print(f\"\\nPortfolio missing values: \\n{portfolio_df.isna().sum()}\")\n",
        "\n",
        "# profile.csv\n",
        "# profile_df.head()\n",
        "print(f\"\\nProfile Shape: {profile_df.shape}\")\n",
        "print(f\"\\nProfile missing values: \\n{profile_df.isna().sum()}\")\n",
        "\n",
        "# transcript.csv\n",
        "# transcript_df.head()\n",
        "print(f\"\\nTranscript Shape: {transcript_df.shape}\")\n",
        "print(f\"\\nTranscript missing values: \\n{transcript_df.isna().sum()}\")"
      ],
      "outputs": [
        {
          "output_type": "stream",
          "name": "stdout",
          "text": [
            "Portfolio Shape: (10, 7)\n",
            "\n",
            "Portfolio missing values: \n",
            "Unnamed: 0    0\n",
            "reward        0\n",
            "channels      0\n",
            "difficulty    0\n",
            "duration      0\n",
            "offer_type    0\n",
            "id            0\n",
            "dtype: int64\n",
            "\n",
            "Profile Shape: (17000, 6)\n",
            "\n",
            "Profile missing values: \n",
            "Unnamed: 0             0\n",
            "gender              2175\n",
            "age                    0\n",
            "id                     0\n",
            "became_member_on       0\n",
            "income              2175\n",
            "dtype: int64\n",
            "\n",
            "Transcript Shape: (306534, 5)\n",
            "\n",
            "Transcript missing values: \n",
            "Unnamed: 0    0\n",
            "person        0\n",
            "event         0\n",
            "value         0\n",
            "time          0\n",
            "dtype: int64\n"
          ]
        }
      ],
      "execution_count": 12
    },
    {
      "cell_type": "code",
      "source": [],
      "metadata": {
        "id": "X-Yir4_tsKGJ"
      },
      "execution_count": null,
      "outputs": []
    }
  ],
  "metadata": {
    "kernelspec": {
      "display_name": "Python 3",
      "language": "python",
      "name": "python3"
    },
    "language_info": {
      "codemirror_mode": {
        "name": "ipython",
        "version": 3
      },
      "file_extension": ".py",
      "mimetype": "text/x-python",
      "name": "python",
      "nbconvert_exporter": "python",
      "pygments_lexer": "ipython3",
      "version": "3.12.1"
    },
    "colab": {
      "provenance": []
    }
  },
  "nbformat": 4,
  "nbformat_minor": 0
}