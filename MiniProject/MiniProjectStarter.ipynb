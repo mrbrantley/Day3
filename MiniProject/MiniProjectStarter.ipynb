{
  "cells": [
    {
      "cell_type": "markdown",
      "source": [
        "# **Mini Project DSE 200: Starbucks Customer Data Analysis**"
      ],
      "metadata": {
        "id": "VTNz7DMBgxSR"
      }
    },
    {
      "cell_type": "markdown",
      "source": [
        "## Dataset Source\n",
        "Dataset available on [Kaggle: Starbucks Customer Data](https://www.kaggle.com/datasets/ihormuliar/starbucks-customer-data)\n",
        "\n",
        "## Business Context\n",
        "Starbucks regularly sends out promotional offers to their customers through various channels (email, mobile, web, social media). These offers can be drink advertisements, discounts, or buy-one-get-one-free (BOGO) deals. Not all customers receive the same offer, and not all offers are equally effective. Understanding offer effectiveness and customer behavior can significantly impact business success.\n",
        "\n",
        "## Project Objective\n",
        "Analyze the Starbucks promotional offers dataset to derive actionable insights about customer behavior and offer effectiveness. Some potential areas to explore (but not limited to):\n",
        "\n",
        "### Possible Analysis Directions\n",
        "1. Offer Performance Analysis\n",
        "   - Which types of offers are most successful?\n",
        "   - How does offer success vary across different customer segments?\n",
        "   - What is the optimal duration for different types of offers?\n",
        "\n",
        "2. Customer Segmentation\n",
        "   - Can we identify distinct customer groups based on their response to offers?\n",
        "   - How do demographics influence offer effectiveness?\n",
        "   - Which customer segments are most valuable to target?\n",
        "\n",
        "3. Channel Effectiveness\n",
        "   - Which communication channels are most effective for different customer segments?\n",
        "   - Does multi-channel marketing improve offer success?\n",
        "\n",
        "4. Customer Behavior Patterns\n",
        "   - What is the typical customer journey from receiving to completing an offer?\n",
        "   - Are there patterns in transaction behavior with and without offers?\n",
        "   - How does membership tenure relate to offer response?\n",
        "\n",
        "## Technical Requirements\n",
        "Your analysis should include:\n",
        "1. Data Cleaning & Preprocessing\n",
        "   - Handle missing values\n",
        "   - Convert data types appropriately\n",
        "   - Create relevant features for analysis\n",
        "\n",
        "2. Exploratory Data Analysis\n",
        "   - Visualize key patterns and relationships\n",
        "   - Identify significant trends\n",
        "   - Support findings with statistical analysis\n",
        "\n",
        "3. Advanced Analytics (choose at least one)\n",
        "   - Customer Segmentation (e.g., clustering)\n",
        "   - Offer Success Prediction\n",
        "   - Customer Response Modeling\n",
        "   - Promotional Impact Analysis\n",
        "\n",
        "4. Business Recommendations\n",
        "   - Clear, actionable insights\n",
        "   - Data-driven recommendations\n",
        "   - Potential impact assessment\n",
        "\n",
        "## Deliverables\n",
        "1. 5-minute presentation covering:\n",
        "   - Key insights discovered\n",
        "   - Methodology used\n",
        "   - Business recommendations\n",
        "   - Potential impact\n",
        "\n",
        "2. Code submission including:\n",
        "   - Well-documented notebooks\n",
        "   - Clear explanation of analysis steps\n",
        "   - Visualizations and results\n",
        "\n",
        "## Evaluation Criteria\n",
        "- Quality of analysis and insights\n",
        "- Technical implementation\n",
        "- Clarity of presentation\n",
        "- Business value of recommendations\n",
        "- Creativity in approach\n",
        "\n",
        "Remember: While these directions provide structure, feel free to explore additional aspects of the data that you find interesting or valuable. The goal is to demonstrate both technical skills and business acumen in analyzing real-world marketing data.\n",
        "\n",
        "## Dataset Structure\n",
        "The dataset consists of three main files:\n",
        "\n",
        "### 1. portfolio.csv\n",
        "Contains offer details with columns:\n",
        "- `id`: Unique offer ID\n",
        "- `reward`: Points given for offer completion\n",
        "- `channels`: Marketing channels used (web, email, mobile, social)\n",
        "- `difficulty`: Minimum spend required\n",
        "- `duration`: Time period for offer\n",
        "- `offer_type`: Type of offer (BOGO, discount, informational)\n",
        "\n",
        "### 2. profile.csv\n",
        "Customer demographic data with columns:\n",
        "- `id`: Customer ID\n",
        "- `gender`: Customer gender (M, F, O)\n",
        "- `age`: Customer age (18-118)\n",
        "- `became_member_on`: Account creation date\n",
        "- `income`: Annual income (30k-120k)\n",
        "\n",
        "### 3. transcript.csv\n",
        "Transaction and offer interaction data with columns:\n",
        "- `id`: Record ID\n",
        "- `person`: Customer ID\n",
        "- `event`: Type of record (transaction, offer received, offer viewed, etc.)\n",
        "- `value`: Either offer ID or transaction amount\n",
        "- `time`: Hours since start of data collection\n",
        "\n",
        "## Project Goals\n",
        "Create an analysis of the Starbucks customer data that includes:\n",
        "1. Exploratory Data Analysis (EDA)\n",
        "2. Data Preprocessing\n",
        "3. Machine Learning\n",
        "4. Analysis & Visualization\n",
        "5. Business Insights\n",
        "\n",
        "## Deliverables\n",
        "1. 5-minute presentation of findings\n",
        "2. Code submission for grading\n",
        "   \n",
        "## Project Requirements\n",
        "Students should:\n",
        "1. Fork the repository\n",
        "2. Perform comprehensive data analysis\n",
        "3. Present insights in a clear, concise manner\n",
        "4. Submit code for evaluation\n",
        "\n",
        "The project emphasizes practical application of data science techniques to gain meaningful business insights from real-world customer data."
      ],
      "metadata": {
        "id": "kqEQVBs_hOaw"
      }
    },
    {
      "cell_type": "code",
      "metadata": {
        "id": "tKxa3mRqrdqL",
        "outputId": "3e0e7e2c-1a4c-41cb-cae6-a30d29dccb39",
        "colab": {
          "base_uri": "https://localhost:8080/"
        }
      },
      "source": [
        "%pip install numpy pandas matplotlib seaborn scipy scikit-learn kagglehub"
      ],
      "outputs": [
        {
          "output_type": "stream",
          "name": "stdout",
          "text": [
            "Requirement already satisfied: numpy in /usr/local/lib/python3.12/dist-packages (2.0.2)\n",
            "Requirement already satisfied: pandas in /usr/local/lib/python3.12/dist-packages (2.2.2)\n",
            "Requirement already satisfied: matplotlib in /usr/local/lib/python3.12/dist-packages (3.10.0)\n",
            "Requirement already satisfied: seaborn in /usr/local/lib/python3.12/dist-packages (0.13.2)\n",
            "Requirement already satisfied: scipy in /usr/local/lib/python3.12/dist-packages (1.16.3)\n",
            "Requirement already satisfied: scikit-learn in /usr/local/lib/python3.12/dist-packages (1.6.1)\n",
            "Requirement already satisfied: kagglehub in /usr/local/lib/python3.12/dist-packages (0.3.13)\n",
            "Requirement already satisfied: python-dateutil>=2.8.2 in /usr/local/lib/python3.12/dist-packages (from pandas) (2.9.0.post0)\n",
            "Requirement already satisfied: pytz>=2020.1 in /usr/local/lib/python3.12/dist-packages (from pandas) (2025.2)\n",
            "Requirement already satisfied: tzdata>=2022.7 in /usr/local/lib/python3.12/dist-packages (from pandas) (2025.2)\n",
            "Requirement already satisfied: contourpy>=1.0.1 in /usr/local/lib/python3.12/dist-packages (from matplotlib) (1.3.3)\n",
            "Requirement already satisfied: cycler>=0.10 in /usr/local/lib/python3.12/dist-packages (from matplotlib) (0.12.1)\n",
            "Requirement already satisfied: fonttools>=4.22.0 in /usr/local/lib/python3.12/dist-packages (from matplotlib) (4.60.1)\n",
            "Requirement already satisfied: kiwisolver>=1.3.1 in /usr/local/lib/python3.12/dist-packages (from matplotlib) (1.4.9)\n",
            "Requirement already satisfied: packaging>=20.0 in /usr/local/lib/python3.12/dist-packages (from matplotlib) (25.0)\n",
            "Requirement already satisfied: pillow>=8 in /usr/local/lib/python3.12/dist-packages (from matplotlib) (11.3.0)\n",
            "Requirement already satisfied: pyparsing>=2.3.1 in /usr/local/lib/python3.12/dist-packages (from matplotlib) (3.2.5)\n",
            "Requirement already satisfied: joblib>=1.2.0 in /usr/local/lib/python3.12/dist-packages (from scikit-learn) (1.5.2)\n",
            "Requirement already satisfied: threadpoolctl>=3.1.0 in /usr/local/lib/python3.12/dist-packages (from scikit-learn) (3.6.0)\n",
            "Requirement already satisfied: pyyaml in /usr/local/lib/python3.12/dist-packages (from kagglehub) (6.0.3)\n",
            "Requirement already satisfied: requests in /usr/local/lib/python3.12/dist-packages (from kagglehub) (2.32.4)\n",
            "Requirement already satisfied: tqdm in /usr/local/lib/python3.12/dist-packages (from kagglehub) (4.67.1)\n",
            "Requirement already satisfied: six>=1.5 in /usr/local/lib/python3.12/dist-packages (from python-dateutil>=2.8.2->pandas) (1.17.0)\n",
            "Requirement already satisfied: charset_normalizer<4,>=2 in /usr/local/lib/python3.12/dist-packages (from requests->kagglehub) (3.4.4)\n",
            "Requirement already satisfied: idna<4,>=2.5 in /usr/local/lib/python3.12/dist-packages (from requests->kagglehub) (3.11)\n",
            "Requirement already satisfied: urllib3<3,>=1.21.1 in /usr/local/lib/python3.12/dist-packages (from requests->kagglehub) (2.5.0)\n",
            "Requirement already satisfied: certifi>=2017.4.17 in /usr/local/lib/python3.12/dist-packages (from requests->kagglehub) (2025.10.5)\n"
          ]
        }
      ],
      "execution_count": 1
    },
    {
      "cell_type": "code",
      "metadata": {
        "id": "VUNUBEVYrdqM"
      },
      "source": [
        "import kagglehub\n",
        "import numpy as np\n",
        "import pandas as pd\n",
        "import matplotlib.pyplot as plt\n",
        "import seaborn as sns\n",
        "from scipy import stats"
      ],
      "outputs": [],
      "execution_count": 2
    },
    {
      "cell_type": "code",
      "metadata": {
        "id": "ypQTo2S3rdqM",
        "outputId": "80a6b1f2-0e5e-4d22-ee80-06e1939db5ec",
        "colab": {
          "base_uri": "https://localhost:8080/"
        }
      },
      "source": [
        "# Download latest version\n",
        "path = kagglehub.dataset_download(\"ihormuliar/starbucks-customer-data\")\n",
        "\n",
        "print(\"Path to dataset files:\", path)\n",
        "\n",
        "# portfolio.csv\n",
        "portfolio_df = pd.read_csv(path + \"/portfolio.csv\")\n",
        "\n",
        "# profile.csv\n",
        "profile_df = pd.read_csv(path + \"/profile.csv\")\n",
        "\n",
        "# transcript.csv\n",
        "transcript_df = pd.read_csv(path + \"/transcript.csv\")"
      ],
      "outputs": [
        {
          "output_type": "stream",
          "name": "stdout",
          "text": [
            "Using Colab cache for faster access to the 'starbucks-customer-data' dataset.\n",
            "Path to dataset files: /kaggle/input/starbucks-customer-data\n"
          ]
        }
      ],
      "execution_count": 3
    },
    {
      "cell_type": "code",
      "metadata": {
        "id": "cHxruLZDrdqN",
        "outputId": "a7a0a532-0feb-4c7f-b6ce-ea8427447f29",
        "colab": {
          "base_uri": "https://localhost:8080/"
        }
      },
      "source": [
        "# portfolio.csv\n",
        "# portfolio_df.head()\n",
        "print(f\"Portfolio Shape: {portfolio_df.shape}\")\n",
        "print(f\"\\nPortfolio missing values: \\n{portfolio_df.isna().sum()}\")\n",
        "\n",
        "# profile.csv\n",
        "# profile_df.head()\n",
        "print(f\"\\nProfile Shape: {profile_df.shape}\")\n",
        "print(f\"\\nProfile missing values: \\n{profile_df.isna().sum()}\")\n",
        "\n",
        "# transcript.csv\n",
        "# transcript_df.head()\n",
        "print(f\"\\nTranscript Shape: {transcript_df.shape}\")\n",
        "print(f\"\\nTranscript missing values: \\n{transcript_df.isna().sum()}\")"
      ],
      "outputs": [
        {
          "output_type": "stream",
          "name": "stdout",
          "text": [
            "Portfolio Shape: (10, 7)\n",
            "\n",
            "Portfolio missing values: \n",
            "Unnamed: 0    0\n",
            "reward        0\n",
            "channels      0\n",
            "difficulty    0\n",
            "duration      0\n",
            "offer_type    0\n",
            "id            0\n",
            "dtype: int64\n",
            "\n",
            "Profile Shape: (17000, 6)\n",
            "\n",
            "Profile missing values: \n",
            "Unnamed: 0             0\n",
            "gender              2175\n",
            "age                    0\n",
            "id                     0\n",
            "became_member_on       0\n",
            "income              2175\n",
            "dtype: int64\n",
            "\n",
            "Transcript Shape: (306534, 5)\n",
            "\n",
            "Transcript missing values: \n",
            "Unnamed: 0    0\n",
            "person        0\n",
            "event         0\n",
            "value         0\n",
            "time          0\n",
            "dtype: int64\n"
          ]
        }
      ],
      "execution_count": 4
    },
    {
      "cell_type": "code",
      "source": [
        "#clean the data"
      ],
      "metadata": {
        "id": "X-Yir4_tsKGJ"
      },
      "execution_count": null,
      "outputs": []
    }
  ],
  "metadata": {
    "kernelspec": {
      "display_name": "Python 3",
      "language": "python",
      "name": "python3"
    },
    "language_info": {
      "codemirror_mode": {
        "name": "ipython",
        "version": 3
      },
      "file_extension": ".py",
      "mimetype": "text/x-python",
      "name": "python",
      "nbconvert_exporter": "python",
      "pygments_lexer": "ipython3",
      "version": "3.12.1"
    },
    "colab": {
      "provenance": []
    }
  },
  "nbformat": 4,
  "nbformat_minor": 0
}