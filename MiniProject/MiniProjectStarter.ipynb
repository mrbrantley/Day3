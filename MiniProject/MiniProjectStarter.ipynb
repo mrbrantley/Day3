{
 "cells": [
  {
   "cell_type": "code",
   "metadata": {},
   "source": [
    "%pip install numpy pandas matplotlib seaborn scipy scikit-learn kagglehub"
   ],
   "outputs": [],
   "execution_count": null
  },
  {
   "cell_type": "code",
   "metadata": {},
   "source": [
    "import kagglehub\n",
    "import numpy as np\n",
    "import pandas as pd\n",
    "import matplotlib.pyplot as plt\n",
    "import seaborn as sns\n",
    "from scipy import stats"
   ],
   "outputs": [],
   "execution_count": null
  },
  {
   "cell_type": "code",
   "metadata": {},
   "source": [
    "# Download latest version\n",
    "path = kagglehub.dataset_download(\"ihormuliar/starbucks-customer-data\")\n",
    "\n",
    "print(\"Path to dataset files:\", path)\n",
    "\n",
    "# portfolio.csv\n",
    "portfolio_df = pd.read_csv(path + \"/portfolio.csv\")\n",
    "\n",
    "# profile.csv\n",
    "profile_df = pd.read_csv(path + \"/profile.csv\")\n",
    "\n",
    "# transcript.csv\n",
    "transcript_df = pd.read_csv(path + \"/transcript.csv\")"
   ],
   "outputs": [],
   "execution_count": null
  },
  {
   "cell_type": "code",
   "metadata": {},
   "source": [
    "portfolio_df.head(), profile_df.head(), transcript_df.head()"
   ],
   "outputs": [],
   "execution_count": null
  }
 ],
 "metadata": {
  "kernelspec": {
   "display_name": "Python 3",
   "language": "python",
   "name": "python3"
  },
  "language_info": {
   "codemirror_mode": {
    "name": "ipython",
    "version": 3
   },
   "file_extension": ".py",
   "mimetype": "text/x-python",
   "name": "python",
   "nbconvert_exporter": "python",
   "pygments_lexer": "ipython3",
   "version": "3.12.1"
  }
 },
 "nbformat": 4,
 "nbformat_minor": 2
}
