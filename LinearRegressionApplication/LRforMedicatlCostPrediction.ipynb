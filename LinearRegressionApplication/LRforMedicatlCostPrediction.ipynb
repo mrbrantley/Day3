{
 "cells": [
  {
   "cell_type": "markdown",
   "metadata": {
    "id": "V6ZuD6rWGxjk"
   },
   "source": [
    "\n",
    "# Using a Kaggle NB and Dataset to explore"
   ]
  },
  {
   "cell_type": "markdown",
   "metadata": {
    "id": "F2MP8FZpGxjm"
   },
   "source": [
    "# **Cost of Treatment of Patient Prediction Based on Medical Cost Personal Datasets**\n",
    "\n",
    "# **Part 1 - DEFINE**\n",
    "\n",
    "---Step1.Define the problem----->\n",
    "Accurately Predict the insurance costs, based on medical cost personal dataset"
   ]
  },
  {
   "cell_type": "code",
   "metadata": {
    "_cell_guid": "b1076dfc-b9ad-4769-8c92-a6c4dae69d19",
    "_uuid": "8f2839f25d086af736a60e9eeb907d3b93b6e0e5",
    "id": "fdBxMgedGxjm",
    "trusted": true
   },
   "source": [
    "# This Python 3 environment comes with many helpful analytics libraries installed\n",
    "# It is defined by the kaggle/python docker image: https://github.com/kaggle/docker-python\n",
    "# For example, here's several helpful packages to load in\n",
    "\n",
    "import numpy as np # linear algebra\n",
    "import pandas as pd # data processing, CSV file I/O (e.g. pd.read_csv)\n",
    "import matplotlib.pyplot as plt\n",
    "from datetime import datetime\n",
    "from collections import defaultdict  #provide default values for null keys\n",
    "from sklearn.linear_model import LinearRegression\n",
    "from sklearn.metrics import r2_score,mean_squared_error\n",
    "from sklearn.preprocessing import LabelEncoder\n",
    "from sklearn.preprocessing import PolynomialFeatures\n",
    "from sklearn.ensemble import RandomForestRegressor\n",
    "import seaborn as sns\n",
    "import matplotlib.pyplot as plt\n",
    "\n",
    "%matplotlib inline\n",
    "\n"
   ],
   "outputs": [],
   "execution_count": null
  },
  {
   "cell_type": "markdown",
   "metadata": {
    "id": "UgpaGkIhGxjn"
   },
   "source": [
    "# **Part 2 - DISCOVER**\n",
    "----Step2.Load Dataset---->Check Head, info and describe ,  shape of dataset by query"
   ]
  },
  {
   "cell_type": "code",
   "metadata": {
    "_cell_guid": "79c7e3d0-c299-4dcb-8224-4455121ee9b0",
    "_uuid": "d629ff2d2480ee46fbb7e2d37f6b5fab8052498a",
    "colab": {
     "base_uri": "https://localhost:8080/"
    },
    "id": "q2wxvnKeGxjn",
    "outputId": "274ebfae-3a97-4c38-e512-448ee2c5b023",
    "trusted": true
   },
   "source": [
    "#grab our insurance file...\n",
    "import os\n",
    "import requests\n",
    "\n",
    "thePath = \"./\"\n",
    "theLink = \"https://dse200.dev/Day3/insurance.csv\"\n",
    "theFile = \"insurance.csv\"\n",
    "\n",
    "if not os.path.exists(thePath + theFile):\n",
    "    r = requests.get(theLink)\n",
    "    with open(thePath + theFile, 'wb') as f:\n",
    "        f.write(r.content)\n",
    "\n",
    "# Load the data\n",
    "\n",
    "df= pd.read_csv(thePath + theFile)\n",
    "print(df.shape)"
   ],
   "outputs": [],
   "execution_count": null
  },
  {
   "cell_type": "code",
   "metadata": {
    "colab": {
     "base_uri": "https://localhost:8080/",
     "height": 363
    },
    "id": "VaI7_Vq_Gxjn",
    "outputId": "ccbd4a0b-e864-49e7-be15-7c217286130b",
    "trusted": true
   },
   "source": [
    "df.head(10)"
   ],
   "outputs": [],
   "execution_count": null
  },
  {
   "cell_type": "code",
   "metadata": {
    "colab": {
     "base_uri": "https://localhost:8080/",
     "height": 300
    },
    "id": "JzqbaNzxGxjn",
    "outputId": "66884517-94d3-4dfd-a520-3e10442bd1a4",
    "trusted": true
   },
   "source": [
    "df.describe()"
   ],
   "outputs": [],
   "execution_count": null
  },
  {
   "cell_type": "code",
   "metadata": {
    "colab": {
     "base_uri": "https://localhost:8080/"
    },
    "id": "gljm4RpZGxjn",
    "outputId": "581eb43d-a431-4386-edca-00bb504b206c",
    "trusted": true
   },
   "source": [
    "df.info()"
   ],
   "outputs": [],
   "execution_count": null
  },
  {
   "cell_type": "code",
   "metadata": {
    "colab": {
     "base_uri": "https://localhost:8080/"
    },
    "id": "ZN39Ow6OGxjo",
    "outputId": "5a58a736-0f25-4fb6-c688-df546dae0991",
    "trusted": true
   },
   "source": [
    "print('Number of rows and columns in the data set: ',df.shape)"
   ],
   "outputs": [],
   "execution_count": null
  },
  {
   "cell_type": "markdown",
   "metadata": {
    "id": "PLZuLvZHGxjo"
   },
   "source": [
    "Now we have imported dataset. When we look at the shape of dataset it has return as (1338,7).So there are  m=1338  training exaple and  n=7  independent variable. The target variable here is charges and remaining six variables such as age, sex, bmi, children, smoker, region are independent variable."
   ]
  },
  {
   "cell_type": "markdown",
   "metadata": {
    "id": "6X7sYGf6Gxjo"
   },
   "source": [
    "----Step3.Clean Dataset---"
   ]
  },
  {
   "cell_type": "code",
   "metadata": {
    "colab": {
     "base_uri": "https://localhost:8080/",
     "height": 304
    },
    "id": "UZ4Sv1rIGxjo",
    "outputId": "3e1f681b-8b65-43a2-bc7b-7e796306ade6",
    "trusted": true
   },
   "source": [
    "# Check for null count column wise\n",
    "df.isnull().sum(axis=0)"
   ],
   "outputs": [],
   "execution_count": null
  },
  {
   "cell_type": "markdown",
   "metadata": {
    "id": "riLB17MDGxjo"
   },
   "source": [
    "---Step4.Explore the Data (EDA)--\n",
    "\n",
    "a.Visualizing the Charges data Target Variable by using distplot\n"
   ]
  },
  {
   "cell_type": "code",
   "metadata": {
    "colab": {
     "base_uri": "https://localhost:8080/",
     "height": 694
    },
    "id": "NmKXp8t2Gxjo",
    "outputId": "b9f96491-d6e8-4b15-916b-8df030631afe",
    "trusted": true
   },
   "source": [
    "f= plt.figure(figsize=(12,4))\n",
    "ax=f.add_subplot(121)\n",
    "sns.distplot(df['charges'],bins=50,color='r',ax=ax)\n",
    "ax.set_title('Distribution of insurance charges')\n",
    "\n",
    "ax=f.add_subplot(122)\n",
    "sns.distplot(np.log10(df['charges']),bins=40,color='b',ax=ax)\n",
    "ax.set_title('Distribution of insurance charges in $log$ sacle')\n",
    "ax.set_xscale('log')\n",
    "plt.show()\n"
   ],
   "outputs": [],
   "execution_count": null
  },
  {
   "cell_type": "markdown",
   "metadata": {
    "id": "5EPv-BVIGxjo"
   },
   "source": [
    "b.Visualizing categorical data by using bar plot\n",
    "\n",
    "- birth-gender\n",
    "- smoker\n",
    "- region"
   ]
  },
  {
   "cell_type": "code",
   "metadata": {
    "colab": {
     "base_uri": "https://localhost:8080/",
     "height": 195
    },
    "id": "8T0c4GDeGxjo",
    "outputId": "5fa19d26-3fd5-487a-e2f8-175650463964",
    "trusted": true
   },
   "source": [
    "plt.figure(figsize=(18,4))\n",
    "plt.subplot(131)\n",
    "sns.barplot(x='sex', y='charges', data=df)\n",
    "plt.subplot(132)\n",
    "sns.barplot(x='smoker', y='charges', data=df)\n",
    "plt.subplot(133)\n",
    "sns.barplot(x='region', y='charges', data=df)\n",
    "plt.show()"
   ],
   "outputs": [],
   "execution_count": null
  },
  {
   "cell_type": "markdown",
   "metadata": {
    "id": "cG2-QuvZGxjo"
   },
   "source": [
    "c.Visualizing Numerical data by using pairplot\n",
    "- age\n",
    "- bmi\n",
    "- children\n",
    "- charges"
   ]
  },
  {
   "cell_type": "code",
   "metadata": {
    "colab": {
     "base_uri": "https://localhost:8080/",
     "height": 743
    },
    "id": "TZpKaAD2Gxjp",
    "outputId": "9ce03f33-d05a-4615-e59b-c30217899061",
    "trusted": true
   },
   "source": [
    "sns.pairplot(df,kind=\"reg\")"
   ],
   "outputs": [],
   "execution_count": null
  },
  {
   "cell_type": "code",
   "metadata": {
    "colab": {
     "base_uri": "https://localhost:8080/",
     "height": 453
    },
    "id": "T4xBs8J2Gxjp",
    "outputId": "0edf0cea-8758-497d-ac1f-15620b5dbf1b",
    "trusted": true
   },
   "source": [
    "\n",
    "#Plot a heatmap and look at the corelation\n",
    "\n",
    "# Select only numerical features for correlation analysis\n",
    "numerical_features = df.select_dtypes(include=['number']).columns\n",
    "numerical_df = df[numerical_features]\n",
    "\n",
    "#Plot a heatmap and look at the corelation\n",
    "sns.heatmap(numerical_df.corr(), cmap='coolwarm', annot=True)"
   ],
   "outputs": [],
   "execution_count": null
  },
  {
   "cell_type": "markdown",
   "metadata": {
    "id": "T765wUJrGxjp"
   },
   "source": [
    "--Step5.Label Encoding for Catogorical data---\n",
    "\n",
    "**Label encoding** refers to transforming the word labels into numerical form so that the algorithms can understand how to operate on them.\n",
    "\n"
   ]
  },
  {
   "cell_type": "code",
   "metadata": {
    "id": "5gqzq_18Gxjp",
    "trusted": true
   },
   "source": [
    "# Let us map the variables with 2 levels to 0 and 1\n",
    "df['sex']=df['sex'].map({'male':1, 'female':0})\n",
    "df['smoker']=df['smoker'].map({'yes':1,'no':0})"
   ],
   "outputs": [],
   "execution_count": null
  },
  {
   "cell_type": "code",
   "metadata": {
    "colab": {
     "base_uri": "https://localhost:8080/",
     "height": 226
    },
    "id": "CB9qoD67Gxjp",
    "outputId": "a96d4d75-bb35-4d1c-8eda-6874d50fb72f",
    "trusted": true
   },
   "source": [
    "# Assigning dummy variables to remaining categorical variable- region\n",
    "df = pd.get_dummies(df, columns=['region'], drop_first=True)\n",
    "df.head()"
   ],
   "outputs": [],
   "execution_count": null
  },
  {
   "cell_type": "markdown",
   "metadata": {
    "id": "kjIdPteJGxjp"
   },
   "source": [
    "# Part 3 DEVELOP\n",
    "# **Train Test split**"
   ]
  },
  {
   "cell_type": "code",
   "metadata": {
    "id": "4T-KGSJqGxjp",
    "trusted": true
   },
   "source": [
    "from sklearn.model_selection import train_test_split\n",
    "X = df.drop('charges',axis=1) # Independet variable\n",
    "y = df['charges'] # dependent variable\n",
    "\n",
    "X_train, X_test, y_train, y_test = train_test_split(X,y,random_state=0)"
   ],
   "outputs": [],
   "execution_count": null
  },
  {
   "cell_type": "code",
   "metadata": {
    "colab": {
     "base_uri": "https://localhost:8080/",
     "height": 80
    },
    "id": "Ib9ReHgsGxjp",
    "outputId": "ea57a35d-a636-49eb-fb8a-f22be6f1919a",
    "trusted": true
   },
   "source": [
    "lr = LinearRegression()\n",
    "lr.fit(X_train,y_train)"
   ],
   "outputs": [],
   "execution_count": null
  },
  {
   "cell_type": "code",
   "metadata": {
    "colab": {
     "base_uri": "https://localhost:8080/"
    },
    "id": "etan7fP9Gxjp",
    "outputId": "12f159a3-3dd8-4c55-e7c6-8d97f6b1f6f0",
    "trusted": true
   },
   "source": [
    "y_train_pred = lr.predict(X_train)\n",
    "y_test_pred = lr.predict(X_test)\n",
    "print(lr.score(X_test,y_test))"
   ],
   "outputs": [],
   "execution_count": null
  },
  {
   "cell_type": "markdown",
   "metadata": {
    "id": "n_H6MyLQGxjp"
   },
   "source": [
    "**Now lets add Polynmial Feature and look at the result**"
   ]
  },
  {
   "cell_type": "code",
   "metadata": {
    "colab": {
     "base_uri": "https://localhost:8080/"
    },
    "id": "h2_ptSyfGxjp",
    "outputId": "a8357eb9-175d-4bc9-909a-22700c54bac3",
    "trusted": true
   },
   "source": [
    "X = df.drop(['charges','region_northwest','region_southeast','region_southwest'], axis = 1)\n",
    "Y = df.charges\n",
    "\n",
    "\n",
    "\n",
    "quad = PolynomialFeatures (degree = 2)\n",
    "x_quad = quad.fit_transform(X)\n",
    "\n",
    "X_train,X_test,Y_train,Y_test = train_test_split(x_quad,Y, random_state = 0)\n",
    "\n",
    "plr = LinearRegression().fit(X_train,Y_train)\n",
    "\n",
    "Y_train_pred = plr.predict(X_train)\n",
    "Y_test_pred = plr.predict(X_test)\n",
    "\n",
    "print(plr.score(X_test,Y_test))"
   ],
   "outputs": [],
   "execution_count": null
  },
  {
   "cell_type": "markdown",
   "metadata": {
    "id": "DCvJVL8hGxjp"
   },
   "source": [
    "# Now lets try out with Random Forest"
   ]
  },
  {
   "cell_type": "code",
   "metadata": {
    "colab": {
     "base_uri": "https://localhost:8080/"
    },
    "id": "Wy7p_D7UGxjp",
    "outputId": "59d866d6-0a6a-4399-fee3-53a89b63b257",
    "trusted": true
   },
   "source": [
    "forest = RandomForestRegressor(n_estimators = 100,\n",
    "                              criterion = 'squared_error', # Change criterion to 'squared_error'\n",
    "                              random_state = 1,\n",
    "                              n_jobs = -1)\n",
    "forest.fit(X_train,y_train)\n",
    "forest_train_pred = forest.predict(X_train)\n",
    "forest_test_pred = forest.predict(X_test)\n",
    "\n",
    "print('MSE train data: %.3f, MSE test data: %.3f' % (\n",
    "mean_squared_error(y_train,forest_train_pred),\n",
    "mean_squared_error(y_test,forest_test_pred)))\n",
    "print('R2 train data: %.3f, R2 test data: %.3f' % (\n",
    "r2_score(y_train,forest_train_pred),\n",
    "r2_score(y_test,forest_test_pred)))"
   ],
   "outputs": [],
   "execution_count": null
  },
  {
   "cell_type": "code",
   "metadata": {
    "colab": {
     "base_uri": "https://localhost:8080/",
     "height": 439
    },
    "id": "1bnAo8JRGxjp",
    "outputId": "c332873d-8f70-46c2-e13a-2eaef619ca5f",
    "trusted": true
   },
   "source": [
    "plt.figure(figsize=(10,6))\n",
    "\n",
    "plt.scatter(forest_train_pred,forest_train_pred - y_train,\n",
    "          c = 'black', marker = 'o', s = 35, alpha = 0.5,\n",
    "          label = 'Train data')\n",
    "plt.scatter(forest_test_pred,forest_test_pred - y_test,\n",
    "          c = 'c', marker = 'o', s = 35, alpha = 0.7,\n",
    "          label = 'Test data')\n",
    "plt.xlabel('Predicted values')\n",
    "plt.ylabel('Tailings')\n",
    "plt.legend(loc = 'upper left')\n",
    "plt.hlines(y = 0, xmin = 0, xmax = 60000, lw = 2, color = 'red')\n",
    "plt.show()"
   ],
   "outputs": [],
   "execution_count": null
  }
 ],
 "metadata": {
  "colab": {
   "provenance": []
  },
  "kaggle": {
   "accelerator": "none",
   "dataSources": [
    {
     "datasetId": 13720,
     "sourceId": 18513,
     "sourceType": "datasetVersion"
    }
   ],
   "dockerImageVersionId": 29860,
   "isGpuEnabled": false,
   "isInternetEnabled": false,
   "language": "python",
   "sourceType": "notebook"
  },
  "kernelspec": {
   "display_name": "Python 3",
   "language": "python",
   "name": "python3"
  },
  "language_info": {
   "codemirror_mode": {
    "name": "ipython",
    "version": 3
   },
   "file_extension": ".py",
   "mimetype": "text/x-python",
   "name": "python",
   "nbconvert_exporter": "python",
   "pygments_lexer": "ipython3",
   "version": "3.6.4"
  }
 },
 "nbformat": 4,
 "nbformat_minor": 0
}
