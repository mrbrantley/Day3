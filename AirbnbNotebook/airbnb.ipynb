{
 "cells": [
  {
   "cell_type": "markdown",
   "metadata": {},
   "source": [
    "# Airbnb Data Analysis and Machine Learning Tasks\n",
    "\n",
    "## Setup\n",
    "First, let's import the necessary libraries and load our data."
   ]
  },
  {
   "metadata": {},
   "cell_type": "code",
   "source": "r%pip install pandas numpy matplotlib seaborn scikit-learn requests",
   "outputs": [],
   "execution_count": null
  },
  {
   "cell_type": "code",
   "metadata": {},
   "source": [
    "import os\n",
    "import requests\n",
    "import pandas as pd\n",
    "import numpy as np\n",
    "import matplotlib.pyplot as plt\n",
    "import seaborn as sns\n",
    "from sklearn.model_selection import train_test_split\n",
    "from sklearn.linear_model import LinearRegression\n",
    "from sklearn.ensemble import RandomForestRegressor\n",
    "from sklearn.metrics import mean_squared_error, r2_score\n",
    "from sklearn.preprocessing import LabelEncoder\n",
    "\n",
    "# if we can import the drive module, we are running on colab\n",
    "thePath = \"./\"  # Adjust this path as necessary\n",
    "link = \"https://dse200.dev/Day3/airbnb_sd_listings.csv\"\n",
    "file = \"airbnb_sd_listings.csv\"\n",
    "\n",
    "if not os.path.exists(thePath + file):\n",
    "    r = requests.get(link)\n",
    "    with open(thePath + file, 'wb') as f:\n",
    "        f.write(r.content)\n",
    "\n",
    "# Load the data\n",
    "data = pd.read_csv(thePath + file)\n",
    "\n",
    "# Display the first few rows and data info\n",
    "print(data.head())\n",
    "print(data.info())"
   ],
   "outputs": [],
   "execution_count": null
  },
  {
   "cell_type": "markdown",
   "metadata": {},
   "source": [
    "## Basic Data Analysis and Visualization\n",
    "\n",
    "a) Create a bar plot showing the average price for each room_type.\n",
    "\n",
    "b) What is the most expensive room_type on average?\n",
    "\n",
    "c) Create a scatter plot of price vs. number_of_reviews. What do you observe?"
   ]
  },
  {
   "cell_type": "code",
   "metadata": {},
   "source": [
    "# Your code here\n"
   ],
   "outputs": [],
   "execution_count": null
  },
  {
   "cell_type": "markdown",
   "metadata": {},
   "source": [
    "## Predicting Price with Linear Regression\n",
    "\n",
    "We'll create a machine learning model to predict the price of a listing.\n",
    "\n",
    "a) Prepare the data for machine learning:\n",
    "   - Select relevant features (you decide which ones to use)\n",
    "   - Handle any categorical variables\n",
    "   - Split the data into training and testing sets\n",
    "\n",
    "b) Create and train linear regression model.\n",
    "\n",
    "c) Evaluate linear regression model using Mean Squared Error and R-squared score.\n",
    "\n"
   ]
  },
  {
   "cell_type": "code",
   "metadata": {},
   "source": [
    "# Select relevant features"
   ],
   "outputs": [],
   "execution_count": null
  },
  {
   "cell_type": "code",
   "metadata": {},
   "source": [
    "# Linear Regression\n"
   ],
   "outputs": [],
   "execution_count": null
  },
  {
   "cell_type": "markdown",
   "metadata": {},
   "source": [
    "## Predicting Price with Random Forest Regressor\n",
    "\n",
    "We'll create a machine learning model to predict the price of a listing.\n",
    "\n",
    "a) Create and train Random Forest Regressor.\n",
    "\n",
    "c) Evaluate model using Mean Squared Error and R-squared score."
   ]
  },
  {
   "cell_type": "code",
   "metadata": {},
   "source": [
    "## Your code here\n"
   ],
   "outputs": [],
   "execution_count": null
  },
  {
   "cell_type": "markdown",
   "metadata": {},
   "source": [
    "## Comparison of Models and using best model to predict price\n",
    "\n",
    "a) Which model performs better? Why do you think this is the case?\n",
    "\n",
    "b) How did the speed of the models compare?\n",
    "\n",
    "c) Use your best model to predict the price for a new listing with these features:\n",
    "   - room_type: 'Entire home/apt'\n",
    "   - minimum_nights: 2\n",
    "   - number_of_reviews: 50\n",
    "   - availability_365: 200\n",
    "   - neighbourhood: 'Pacific Beach'"
   ]
  },
  {
   "cell_type": "code",
   "metadata": {},
   "source": [
    "# Your code here"
   ],
   "outputs": [],
   "execution_count": null
  },
  {
   "cell_type": "markdown",
   "metadata": {},
   "source": [
    "## Advanced Visualization and Comparison\n",
    "\n",
    "a) Create a heatmap showing the correlation between numerical features in the dataset.\n",
    "\n",
    "b) Using the Random Forest model from Task 8, plot the feature importances. Which features are most important for predicting price?\n",
    "\n",
    "c) Create a box plot showing the distribution of prices for each neighbourhood. What do you observe about price variations across neighbourhoods?\n",
    "\n",
    "d) Based on your analysis, what recommendations would you give to someone looking to list their property on this platform to maximize their potential earnings?"
   ]
  },
  {
   "cell_type": "code",
   "metadata": {},
   "source": [
    "## Your code here"
   ],
   "outputs": [],
   "execution_count": null
  }
 ],
 "metadata": {
  "anaconda-cloud": {},
  "kernelspec": {
   "display_name": "Python 3",
   "language": "python",
   "name": "python3"
  },
  "language_info": {
   "codemirror_mode": {
    "name": "ipython",
    "version": 3
   },
   "file_extension": ".py",
   "mimetype": "text/x-python",
   "name": "python",
   "nbconvert_exporter": "python",
   "pygments_lexer": "ipython3",
   "version": "3.11.2"
  }
 },
 "nbformat": 4,
 "nbformat_minor": 4
}
