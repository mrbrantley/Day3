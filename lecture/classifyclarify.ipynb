{
 "nbformat": 4,
 "nbformat_minor": 0,
 "metadata": {
  "colab": {
   "provenance": [],
   "authorship_tag": "ABX9TyNhSzKbs0zqsfM/UogL16pd"
  },
  "kernelspec": {
   "name": "python3",
   "display_name": "Python 3"
  },
  "language_info": {
   "name": "python"
  }
 },
 "cells": [
  {
   "cell_type": "code",
   "metadata": {
    "id": "UcLqxh0KYy0o"
   },
   "source": [
    "import numpy as np\n",
    "import pandas as pd\n",
    "import matplotlib.pyplot as plt\n",
    "from sklearn.tree import DecisionTreeClassifier, DecisionTreeRegressor, plot_tree\n",
    "from sklearn.model_selection import train_test_split\n",
    "from sklearn.metrics import accuracy_score, mean_squared_error"
   ],
   "outputs": [],
   "execution_count": null
  },
  {
   "cell_type": "markdown",
   "source": [
    "# Create fake data"
   ],
   "metadata": {
    "id": "9f-1_dYHZhid"
   }
  },
  {
   "cell_type": "code",
   "source": [
    "\n",
    "# Set seed for reproducibility\n",
    "np.random.seed(42)\n",
    "\n",
    "# Generate 50 fake houses\n",
    "n_houses = 50\n",
    "\n",
    "# Features: square footage (1000-4000 sq ft)\n",
    "square_footage = np.random.uniform(1000, 4000, n_houses)\n",
    "\n",
    "# Features: age of house (0-50 years)\n",
    "age = np.random.uniform(0, 50, n_houses)\n",
    "\n",
    "# Target: actual price (based on rough formula + randomness)\n",
    "# Higher square footage = higher price, newer house = higher price\n",
    "price = 100000 + (square_footage * 150) + (2000 * (50 - age)) + np.random.normal(0, 50000, n_houses)\n",
    "price = np.maximum(price, 100000)  # Ensure no negative prices\n",
    "\n",
    "# Create DataFrame\n",
    "df = pd.DataFrame({\n",
    "    'square_footage': square_footage,\n",
    "    'age': age,\n",
    "    'price': price\n",
    "})\n",
    "\n",
    "# For classification: label houses as \"expensive\" (above median) or \"not expensive\"\n",
    "median_price = df['price'].median()\n",
    "df['expensive'] = (df['price'] > median_price).astype(int)  # 1 = expensive, 0 = not expensive\n",
    "\n",
    "print(\"Sample of data:\")\n",
    "print(df.head(10))\n",
    "print(f\"\\nMedian price: ${median_price:,.0f}\")\n",
    "print(f\"Price range: ${df['price'].min():,.0f} to ${df['price'].max():,.0f}\")\n"
   ],
   "metadata": {
    "colab": {
     "base_uri": "https://localhost:8080/"
    },
    "id": "TuX9_gFcZkGs",
    "executionInfo": {
     "status": "ok",
     "timestamp": 1761262166959,
     "user_tz": 420,
     "elapsed": 29,
     "user": {
      "displayName": "Richard Gessner",
      "userId": "04866485102218961500"
     }
    },
    "outputId": "11e9b2ae-c8cf-49d3-98e9-efc445f939cb"
   },
   "outputs": [],
   "execution_count": null
  },
  {
   "cell_type": "markdown",
   "source": [
    "# Classification Tree Version..."
   ],
   "metadata": {
    "id": "9hF4oqcjZxi-"
   }
  },
  {
   "cell_type": "code",
   "source": [
    "\n",
    "# ============================================================================\n",
    "# CLASSIFICATION TREE\n",
    "# ============================================================================\n",
    "\n",
    "print(\"\\n\" + \"=\"*70)\n",
    "print(\"CLASSIFICATION TREE: Is this house expensive?\")\n",
    "print(\"=\"*70)\n",
    "\n",
    "# Split data\n",
    "X = df[['square_footage', 'age']]\n",
    "y_classify = df['expensive']\n",
    "\n",
    "X_train, X_test, y_train, y_test = train_test_split(X, y_classify, test_size=0.3, random_state=42)\n",
    "\n",
    "# Train classifier (small tree to keep it readable)\n",
    "clf = DecisionTreeClassifier(max_depth=3, random_state=42)\n",
    "clf.fit(X_train, y_train)\n",
    "\n",
    "# Evaluate\n",
    "train_acc = accuracy_score(y_train, clf.predict(X_train))\n",
    "test_acc = accuracy_score(y_test, clf.predict(X_test))\n",
    "\n",
    "print(f\"\\nTraining accuracy: {train_acc:.2%}\")\n",
    "print(f\"Testing accuracy: {test_acc:.2%}\")\n",
    "\n",
    "print(\"\\nExample predictions on test data:\")\n",
    "sample_predictions = X_test.head(5).copy()\n",
    "sample_predictions['predicted_expensive'] = clf.predict(X_test.head(5))\n",
    "sample_predictions['predicted_expensive'] = sample_predictions['predicted_expensive'].map({1: 'Yes', 0: 'No'})\n",
    "print(sample_predictions)\n",
    "\n",
    "# Visualize the tree\n",
    "plt.figure(figsize=(20, 10))\n",
    "plot_tree(clf,\n",
    "          feature_names=['Square Footage', 'Age'],\n",
    "          class_names=['Not Expensive', 'Expensive'],\n",
    "          filled=True,\n",
    "          rounded=True)\n",
    "plt.title(\"Classification Tree: Predicting Expensive vs Not Expensive\", fontsize=16)\n",
    "plt.tight_layout()\n",
    "plt.show()\n"
   ],
   "metadata": {
    "colab": {
     "base_uri": "https://localhost:8080/",
     "height": 774
    },
    "id": "O36Zuq96Z0QF",
    "executionInfo": {
     "status": "ok",
     "timestamp": 1761262174989,
     "user_tz": 420,
     "elapsed": 871,
     "user": {
      "displayName": "Richard Gessner",
      "userId": "04866485102218961500"
     }
    },
    "outputId": "0e83b187-9c2e-4dc4-eb9a-4ee78d8817e4"
   },
   "outputs": [],
   "execution_count": null
  },
  {
   "cell_type": "markdown",
   "source": [
    "# Regression Tree version..."
   ],
   "metadata": {
    "id": "DB-JLTVGZ1WJ"
   }
  },
  {
   "cell_type": "code",
   "source": [
    "\n",
    "# ============================================================================\n",
    "# REGRESSION TREE\n",
    "# ============================================================================\n",
    "\n",
    "print(\"\\n\" + \"=\"*70)\n",
    "print(\"REGRESSION TREE: What will this house sell for?\")\n",
    "print(\"=\"*70)\n",
    "\n",
    "# Split data (same features, different target)\n",
    "y_regress = df['price']\n",
    "\n",
    "X_train_r, X_test_r, y_train_r, y_test_r = train_test_split(X, y_regress, test_size=0.3, random_state=42)\n",
    "\n",
    "# Train regressor (same depth for fair comparison)\n",
    "reg = DecisionTreeRegressor(max_depth=3, random_state=42)\n",
    "reg.fit(X_train_r, y_train_r)\n",
    "\n",
    "# Evaluate with mean squared error (or RMSE for interpretability)\n",
    "train_rmse = np.sqrt(mean_squared_error(y_train_r, reg.predict(X_train_r)))\n",
    "test_rmse = np.sqrt(mean_squared_error(y_test_r, reg.predict(X_test_r)))\n",
    "\n",
    "print(f\"\\nTraining RMSE: ${train_rmse:,.0f}\")\n",
    "print(f\"Testing RMSE: ${test_rmse:,.0f}\")\n",
    "\n",
    "print(\"\\nExample predictions on test data:\")\n",
    "sample_predictions_r = X_test_r.head(5).copy()\n",
    "sample_predictions_r['predicted_price'] = reg.predict(X_test_r.head(5))\n",
    "sample_predictions_r['predicted_price'] = sample_predictions_r['predicted_price'].apply(lambda x: f\"${x:,.0f}\")\n",
    "print(sample_predictions_r)\n",
    "\n",
    "# Visualize the tree\n",
    "plt.figure(figsize=(20, 10))\n",
    "plot_tree(reg,\n",
    "          feature_names=['Square Footage', 'Age'],\n",
    "          filled=True,\n",
    "          rounded=True)\n",
    "plt.title(\"Regression Tree: Predicting House Price\", fontsize=16)\n",
    "plt.tight_layout()\n",
    "plt.show()\n"
   ],
   "metadata": {
    "id": "JrfwRvy1Z358"
   },
   "outputs": [],
   "execution_count": null
  },
  {
   "cell_type": "markdown",
   "source": [
    "Let's compare..."
   ],
   "metadata": {
    "id": "KYAMkzXmZ7Ef"
   }
  },
  {
   "cell_type": "code",
   "source": [
    "\n",
    "# ============================================================================\n",
    "# COMPARISON\n",
    "# ============================================================================\n",
    "\n",
    "print(\"\\n\" + \"=\"*70)\n",
    "print(\"KEY DIFFERENCES\")\n",
    "print(\"=\"*70)\n",
    "\n",
    "print(\"\"\"\n",
    "CLASSIFICATION TREE:\n",
    "- Outputs: Category labels (\"Expensive\" or \"Not Expensive\")\n",
    "- Leaf values: Class labels (discrete)\n",
    "- Quality metric: Gini impurity or entropy (measure of purity)\n",
    "- Goal: Minimize misclassification\n",
    "\n",
    "REGRESSION TREE:\n",
    "- Outputs: Numbers (predicted price: $450,000)\n",
    "- Leaf values: Average of training values (continuous)\n",
    "- Quality metric: Variance reduction (how tight are the values?)\n",
    "- Goal: Minimize prediction error (RMSE, MSE)\n",
    "\n",
    "SAME STRUCTURE:\n",
    "- Both split features recursively (e.g., \"if square footage > 2,500\")\n",
    "- Both use binary left/right decisions\n",
    "- Both make predictions by following the path to a leaf\n",
    "\"\"\")"
   ],
   "metadata": {
    "id": "ypFJPHYfZ8QX"
   },
   "outputs": [],
   "execution_count": null
  }
 ]
}
