{
 "cells": [
  {
   "cell_type": "markdown",
   "metadata": {
    "id": "V8zhz_mXsOhR"
   },
   "source": [
    "# Exploratory Data Analysis Demo\n"
   ]
  },
  {
   "cell_type": "markdown",
   "metadata": {
    "id": "D6oMvaUisOhU"
   },
   "source": [
    "## Weather Data\n",
    "\n",
    "This dataset contains one year of daily observations from a weather station in Canberra, Australia.  It is a derived from the weather dataset from the R 'rattle' package:  https://cran.r-project.org/web/packages/rattle.data/rattle.data.pdf\n"
   ]
  },
  {
   "cell_type": "markdown",
   "metadata": {
    "id": "iL4v9xjssOhV"
   },
   "source": [
    "## Read in Data"
   ]
  },
  {
   "cell_type": "code",
   "metadata": {
    "id": "N-zh2MfisOhV"
   },
   "source": [
    "import pandas as pd\n",
    "import os\n",
    "import requests"
   ],
   "outputs": [],
   "execution_count": null
  },
  {
   "cell_type": "code",
   "metadata": {
    "id": "wX7xVO3AsOhW",
    "executionInfo": {
     "status": "ok",
     "timestamp": 1761284825367,
     "user_tz": 420,
     "elapsed": 24,
     "user": {
      "displayName": "Richard Gessner",
      "userId": "04866485102218961500"
     }
    }
   },
   "source": [
    "thePath = './'  # Adjust this path as necessary\n",
    "theFilename = 'weather-orig.csv'\n",
    "theLink = \"https://dse200.dev/Day3/weather-orig.csv\"\n",
    "\n",
    "if not os.path.exists(thePath + theFilename):\n",
    "    r = requests.get(theLink)\n",
    "    with open(thePath + theFilename, 'wb') as f:\n",
    "        f.write(r.content)\n",
    "\n",
    "theFile = 'SalesAds.csv'\n",
    "df= pd.read_csv(thePath + theFile)\n",
    "print(f\"shape {df.shape}\")\n"
   ],
   "outputs": [],
   "execution_count": null
  },
  {
   "cell_type": "code",
   "metadata": {
    "id": "PiblmVpWsOhW",
    "colab": {
     "base_uri": "https://localhost:8080/",
     "height": 342
    },
    "executionInfo": {
     "status": "ok",
     "timestamp": 1761284853644,
     "user_tz": 420,
     "elapsed": 43,
     "user": {
      "displayName": "Richard Gessner",
      "userId": "04866485102218961500"
     }
    },
    "outputId": "fddca2da-8909-450f-f974-7a27c58405ae"
   },
   "source": [
    "df.head()"
   ],
   "outputs": [],
   "execution_count": null
  },
  {
   "cell_type": "code",
   "metadata": {
    "id": "jHdmCjFcsOhW",
    "colab": {
     "base_uri": "https://localhost:8080/",
     "height": 320
    },
    "executionInfo": {
     "status": "ok",
     "timestamp": 1761284856712,
     "user_tz": 420,
     "elapsed": 124,
     "user": {
      "displayName": "Richard Gessner",
      "userId": "04866485102218961500"
     }
    },
    "outputId": "659fb96f-aa45-468c-9554-bb3a373acf75"
   },
   "source": [
    "df.describe()"
   ],
   "outputs": [],
   "execution_count": null
  },
  {
   "cell_type": "code",
   "metadata": {
    "id": "INqEdHMosOhX",
    "colab": {
     "base_uri": "https://localhost:8080/"
    },
    "executionInfo": {
     "status": "ok",
     "timestamp": 1761284859299,
     "user_tz": 420,
     "elapsed": 8,
     "user": {
      "displayName": "Richard Gessner",
      "userId": "04866485102218961500"
     }
    },
    "outputId": "245dac6d-d64f-49d2-a2d8-ce1ad2026dad"
   },
   "source": [
    "print(df['Date'])"
   ],
   "outputs": [],
   "execution_count": null
  },
  {
   "cell_type": "code",
   "metadata": {
    "id": "hgvELLGHsOhX",
    "colab": {
     "base_uri": "https://localhost:8080/"
    },
    "executionInfo": {
     "status": "ok",
     "timestamp": 1761284861183,
     "user_tz": 420,
     "elapsed": 4,
     "user": {
      "displayName": "Richard Gessner",
      "userId": "04866485102218961500"
     }
    },
    "outputId": "86d2e1fa-510f-40ce-9354-1057aaa6dfc5"
   },
   "source": [
    "# Convert Date to datetime data type\n",
    "df['Date'] = pd.to_datetime(df['Date'])\n",
    "print(df['Date'])"
   ],
   "outputs": [],
   "execution_count": null
  },
  {
   "cell_type": "markdown",
   "metadata": {
    "id": "STd61UoRsOhX"
   },
   "source": [
    "## Examine rows"
   ]
  },
  {
   "cell_type": "code",
   "metadata": {
    "id": "mXB0EbtcsOhX",
    "colab": {
     "base_uri": "https://localhost:8080/",
     "height": 586
    },
    "executionInfo": {
     "status": "ok",
     "timestamp": 1761284863517,
     "user_tz": 420,
     "elapsed": 15,
     "user": {
      "displayName": "Richard Gessner",
      "userId": "04866485102218961500"
     }
    },
    "outputId": "9b9eb10f-523e-49c1-b5bf-12659dfd8785"
   },
   "source": [
    "df.head(10)"
   ],
   "outputs": [],
   "execution_count": null
  },
  {
   "cell_type": "code",
   "metadata": {
    "id": "99VUalfjsOhX",
    "colab": {
     "base_uri": "https://localhost:8080/",
     "height": 342
    },
    "executionInfo": {
     "status": "ok",
     "timestamp": 1761284866320,
     "user_tz": 420,
     "elapsed": 27,
     "user": {
      "displayName": "Richard Gessner",
      "userId": "04866485102218961500"
     }
    },
    "outputId": "59f2c151-e4f4-48e3-a641-206f121c6511"
   },
   "source": [
    "df.tail()"
   ],
   "outputs": [],
   "execution_count": null
  },
  {
   "cell_type": "markdown",
   "metadata": {
    "id": "ffTypSA2sOhY"
   },
   "source": [
    "## Examine columns"
   ]
  },
  {
   "cell_type": "code",
   "metadata": {
    "id": "BO0ReHicsOhY",
    "colab": {
     "base_uri": "https://localhost:8080/"
    },
    "executionInfo": {
     "status": "ok",
     "timestamp": 1761284868551,
     "user_tz": 420,
     "elapsed": 5,
     "user": {
      "displayName": "Richard Gessner",
      "userId": "04866485102218961500"
     }
    },
    "outputId": "15b470f0-eae7-49cf-bfd7-e5ec124a8686"
   },
   "source": [
    "df.shape"
   ],
   "outputs": [],
   "execution_count": null
  },
  {
   "cell_type": "code",
   "metadata": {
    "id": "3yKxI3c-sOhY",
    "colab": {
     "base_uri": "https://localhost:8080/"
    },
    "executionInfo": {
     "status": "ok",
     "timestamp": 1761284869537,
     "user_tz": 420,
     "elapsed": 5,
     "user": {
      "displayName": "Richard Gessner",
      "userId": "04866485102218961500"
     }
    },
    "outputId": "f6ebb82f-6ffc-4300-edd6-56988b9d2b90"
   },
   "source": [
    "print('Dimensions:', df.shape, '\\n')"
   ],
   "outputs": [],
   "execution_count": null
  },
  {
   "cell_type": "code",
   "metadata": {
    "id": "Mne39NwbsOhY",
    "colab": {
     "base_uri": "https://localhost:8080/"
    },
    "executionInfo": {
     "status": "ok",
     "timestamp": 1761284870481,
     "user_tz": 420,
     "elapsed": 10,
     "user": {
      "displayName": "Richard Gessner",
      "userId": "04866485102218961500"
     }
    },
    "outputId": "ac11cd8c-7543-4531-b3a1-2aa2fb03e419"
   },
   "source": [
    "df.columns"
   ],
   "outputs": [],
   "execution_count": null
  },
  {
   "cell_type": "code",
   "metadata": {
    "id": "XIh7-bgVsOhY",
    "colab": {
     "base_uri": "https://localhost:8080/"
    },
    "executionInfo": {
     "status": "ok",
     "timestamp": 1761284871805,
     "user_tz": 420,
     "elapsed": 6,
     "user": {
      "displayName": "Richard Gessner",
      "userId": "04866485102218961500"
     }
    },
    "outputId": "93e56659-4808-4f2a-86d9-52fe6c0aecb8"
   },
   "source": [
    "print('Columns:\\n', list(df.columns))"
   ],
   "outputs": [],
   "execution_count": null
  },
  {
   "cell_type": "code",
   "metadata": {
    "id": "0P1-Cw_UsOhY",
    "colab": {
     "base_uri": "https://localhost:8080/"
    },
    "executionInfo": {
     "status": "ok",
     "timestamp": 1761284873747,
     "user_tz": 420,
     "elapsed": 9,
     "user": {
      "displayName": "Richard Gessner",
      "userId": "04866485102218961500"
     }
    },
    "outputId": "77bfb2fd-0106-4d83-954f-ef49685fce71"
   },
   "source": [
    "print('Dimensions:', df.shape, '\\n')\n",
    "print('Columns:\\n', list(df.columns))"
   ],
   "outputs": [],
   "execution_count": null
  },
  {
   "cell_type": "markdown",
   "metadata": {
    "id": "yJrwH4PvsOhY"
   },
   "source": [
    "## Get Summary Statistics"
   ]
  },
  {
   "cell_type": "markdown",
   "metadata": {
    "id": "lKlE_49PsOhY"
   },
   "source": [
    "### Summary statistics for entire dataset"
   ]
  },
  {
   "cell_type": "code",
   "metadata": {
    "id": "Odd1LlQmsOhY",
    "colab": {
     "base_uri": "https://localhost:8080/",
     "height": 668
    },
    "executionInfo": {
     "status": "ok",
     "timestamp": 1761284876215,
     "user_tz": 420,
     "elapsed": 76,
     "user": {
      "displayName": "Richard Gessner",
      "userId": "04866485102218961500"
     }
    },
    "outputId": "0af7fb82-fc85-4662-a401-f04172ff6208"
   },
   "source": [
    "# NOTE:  Summary statistics apply to numerical columns only.\n",
    "# T transposes displayed results\n",
    "df.describe().T"
   ],
   "outputs": [],
   "execution_count": null
  },
  {
   "cell_type": "markdown",
   "metadata": {
    "id": "fcswYWpOsOhY"
   },
   "source": [
    "### Summary statistics for single feature"
   ]
  },
  {
   "cell_type": "code",
   "metadata": {
    "id": "4JvQ6lMAsOhY",
    "colab": {
     "base_uri": "https://localhost:8080/"
    },
    "executionInfo": {
     "status": "ok",
     "timestamp": 1761284880286,
     "user_tz": 420,
     "elapsed": 13,
     "user": {
      "displayName": "Richard Gessner",
      "userId": "04866485102218961500"
     }
    },
    "outputId": "d2af7deb-271c-4b5e-9943-11759daba9ae"
   },
   "source": [
    "feature = \"WindGustSpeed\"\n",
    "\n",
    "print(\"Summary statistics on\", feature)\n",
    "print(\"========\")\n",
    "print(\"average: \", df[feature].mean())\n",
    "print(\"std: \", df[feature].std())\n",
    "print(\"max: \", df[feature].max())\n",
    "print(\"min: \", df[feature].min())\n",
    "print(\"count: \", df[feature].count())\n",
    "print(\"median: \", df[feature].median())\n",
    "print(\"========\")"
   ],
   "outputs": [],
   "execution_count": null
  },
  {
   "cell_type": "code",
   "metadata": {
    "id": "LCif82RLsOhZ",
    "colab": {
     "base_uri": "https://localhost:8080/",
     "height": 335
    },
    "executionInfo": {
     "status": "ok",
     "timestamp": 1761284882513,
     "user_tz": 420,
     "elapsed": 4,
     "user": {
      "displayName": "Richard Gessner",
      "userId": "04866485102218961500"
     }
    },
    "outputId": "1f13fed3-f951-451c-f51a-74dfd008f796"
   },
   "source": [
    "df[feature].describe()"
   ],
   "outputs": [],
   "execution_count": null
  },
  {
   "cell_type": "code",
   "metadata": {
    "id": "_l73wDMFsOhZ",
    "colab": {
     "base_uri": "https://localhost:8080/"
    },
    "executionInfo": {
     "status": "ok",
     "timestamp": 1761284883966,
     "user_tz": 420,
     "elapsed": 5,
     "user": {
      "displayName": "Richard Gessner",
      "userId": "04866485102218961500"
     }
    },
    "outputId": "03faa5c8-7fe7-4f16-e581-5b6cfb605d83"
   },
   "source": [
    "print(\"The summary statistics on\", feature, \": \")\n",
    "print(\"The summary statistics on \" + feature + \": \")\n",
    "print(f\"The summary statistics on {feature}: \")"
   ],
   "outputs": [],
   "execution_count": null
  },
  {
   "cell_type": "markdown",
   "metadata": {
    "id": "OWe2E6C8sOhZ"
   },
   "source": [
    "### Other summary statistics"
   ]
  },
  {
   "cell_type": "code",
   "metadata": {
    "id": "xR7xFocpsOhZ",
    "colab": {
     "base_uri": "https://localhost:8080/"
    },
    "executionInfo": {
     "status": "ok",
     "timestamp": 1761284886039,
     "user_tz": 420,
     "elapsed": 6,
     "user": {
      "displayName": "Richard Gessner",
      "userId": "04866485102218961500"
     }
    },
    "outputId": "6413d2e9-001f-4a28-d854-a2ea06c8f4e5"
   },
   "source": [
    "print(\"first date recorded: \", df['Date'].min())\n",
    "print(\"last date recorded: \", df['Date'].max())\n",
    "print(\"total rainfall amount for year: \", df['Rainfall'].sum())\n",
    "print(\"average rainfall daily: \", df['Rainfall'].sum() / df['Rainfall'].count())"
   ],
   "outputs": [],
   "execution_count": null
  },
  {
   "cell_type": "code",
   "metadata": {
    "id": "9K5w9xHVsOhZ",
    "colab": {
     "base_uri": "https://localhost:8080/"
    },
    "executionInfo": {
     "status": "ok",
     "timestamp": 1761284887616,
     "user_tz": 420,
     "elapsed": 8,
     "user": {
      "displayName": "Richard Gessner",
      "userId": "04866485102218961500"
     }
    },
    "outputId": "e53df34e-bc91-42d5-e807-ee6657e59c52"
   },
   "source": [
    "print(df.Date)"
   ],
   "outputs": [],
   "execution_count": null
  },
  {
   "cell_type": "markdown",
   "metadata": {
    "id": "6vkHpkgtsOhZ"
   },
   "source": [
    "### Dataframe info"
   ]
  },
  {
   "cell_type": "code",
   "metadata": {
    "id": "CwBFiPjNsOhZ",
    "executionInfo": {
     "status": "ok",
     "timestamp": 1761284891411,
     "user_tz": 420,
     "elapsed": 2,
     "user": {
      "displayName": "Richard Gessner",
      "userId": "04866485102218961500"
     }
    }
   },
   "source": [],
   "outputs": [],
   "execution_count": null
  },
  {
   "cell_type": "code",
   "metadata": {
    "id": "MzBsNgYmsOhZ",
    "colab": {
     "base_uri": "https://localhost:8080/",
     "height": 836
    },
    "executionInfo": {
     "status": "ok",
     "timestamp": 1761284892139,
     "user_tz": 420,
     "elapsed": 8,
     "user": {
      "displayName": "Richard Gessner",
      "userId": "04866485102218961500"
     }
    },
    "outputId": "41bff1a0-d55b-4838-f633-e5611ef6127f"
   },
   "source": [
    "df.dtypes"
   ],
   "outputs": [],
   "execution_count": null
  },
  {
   "cell_type": "code",
   "metadata": {
    "id": "M37HPACosOhZ",
    "colab": {
     "base_uri": "https://localhost:8080/"
    },
    "executionInfo": {
     "status": "ok",
     "timestamp": 1761284897070,
     "user_tz": 420,
     "elapsed": 5,
     "user": {
      "displayName": "Richard Gessner",
      "userId": "04866485102218961500"
     }
    },
    "outputId": "b4d302b8-4653-4d03-cfb8-4a82fbb1e713"
   },
   "source": [
    "df.info()"
   ],
   "outputs": [],
   "execution_count": null
  },
  {
   "cell_type": "markdown",
   "metadata": {
    "id": "kTmF3_E2sOhZ"
   },
   "source": [
    "## Handling Missing Values"
   ]
  },
  {
   "cell_type": "markdown",
   "metadata": {
    "id": "dqDhDivMsOhZ"
   },
   "source": [
    "### Determine features with missing values"
   ]
  },
  {
   "cell_type": "code",
   "metadata": {
    "id": "tsH5n0LpsOhZ",
    "colab": {
     "base_uri": "https://localhost:8080/",
     "height": 854
    },
    "executionInfo": {
     "status": "ok",
     "timestamp": 1761284900450,
     "user_tz": 420,
     "elapsed": 34,
     "user": {
      "displayName": "Richard Gessner",
      "userId": "04866485102218961500"
     }
    },
    "outputId": "91ef08b5-4b9d-4ec5-a849-f65816f90404"
   },
   "source": [
    "print(\"NAs for each feature:\")\n",
    "df.isna().sum()"
   ],
   "outputs": [],
   "execution_count": null
  },
  {
   "cell_type": "code",
   "metadata": {
    "id": "SmBKTuaCsOhZ",
    "colab": {
     "base_uri": "https://localhost:8080/"
    },
    "executionInfo": {
     "status": "ok",
     "timestamp": 1761284906169,
     "user_tz": 420,
     "elapsed": 5,
     "user": {
      "displayName": "Richard Gessner",
      "userId": "04866485102218961500"
     }
    },
    "outputId": "9ae23f33-ec84-4136-9311-dd737cffe73f"
   },
   "source": [
    "# Features without missing values\n",
    "list(df.columns[df.isna().sum() == 0])"
   ],
   "outputs": [],
   "execution_count": null
  },
  {
   "cell_type": "markdown",
   "metadata": {
    "id": "aaSfbmjksOhZ"
   },
   "source": [
    "### Remove rows with missing values"
   ]
  },
  {
   "cell_type": "code",
   "metadata": {
    "id": "TcDtvUzbsOhZ"
   },
   "source": [
    "print(\"Dimensions before removing null values: \", df.shape)\n",
    "\n",
    "df.dropna(inplace=True)   # NOTE: Original df is overwritten\n",
    "print(\"Dimensions after removing null values:  \", df.shape)"
   ],
   "outputs": [],
   "execution_count": null
  },
  {
   "cell_type": "code",
   "metadata": {
    "id": "s57iKlVnsOha"
   },
   "source": [
    "df.describe().round(2).T"
   ],
   "outputs": [],
   "execution_count": null
  },
  {
   "cell_type": "markdown",
   "metadata": {
    "id": "5spkuINgsOhe"
   },
   "source": [
    "### Save data without missing values to new file"
   ]
  },
  {
   "cell_type": "code",
   "metadata": {
    "id": "xYWca8LDsOhe",
    "executionInfo": {
     "status": "ok",
     "timestamp": 1761284909285,
     "user_tz": 420,
     "elapsed": 14,
     "user": {
      "displayName": "Richard Gessner",
      "userId": "04866485102218961500"
     }
    }
   },
   "source": [
    "# Save  data in csv file format, not including index as a column\n",
    "df.to_csv(\"weather-na-omit.csv\", index=False)"
   ],
   "outputs": [],
   "execution_count": null
  },
  {
   "cell_type": "markdown",
   "metadata": {
    "id": "EQyElADCsOhe"
   },
   "source": [
    "## Explore by Data Types"
   ]
  },
  {
   "cell_type": "code",
   "metadata": {
    "id": "2WcJfbdLsOhe",
    "colab": {
     "base_uri": "https://localhost:8080/"
    },
    "executionInfo": {
     "status": "ok",
     "timestamp": 1761284910329,
     "user_tz": 420,
     "elapsed": 4,
     "user": {
      "displayName": "Richard Gessner",
      "userId": "04866485102218961500"
     }
    },
    "outputId": "cb839cb2-b8d5-48f8-e9ca-d79db9a7fac6"
   },
   "source": [
    "df.info()"
   ],
   "outputs": [],
   "execution_count": null
  },
  {
   "cell_type": "markdown",
   "metadata": {
    "id": "h5SCY64IsOhe"
   },
   "source": [
    "### Explore numerical features\n",
    "- int64\n",
    "- float64"
   ]
  },
  {
   "cell_type": "code",
   "metadata": {
    "id": "5xlsD4GJsOhe",
    "colab": {
     "base_uri": "https://localhost:8080/"
    },
    "executionInfo": {
     "status": "ok",
     "timestamp": 1761284914200,
     "user_tz": 420,
     "elapsed": 4,
     "user": {
      "displayName": "Richard Gessner",
      "userId": "04866485102218961500"
     }
    },
    "outputId": "05139028-4519-417d-a296-43ccddd525c4"
   },
   "source": [
    "print(\"Numeric features: \\n\", list(df.select_dtypes(include=['float64', 'int64'])))"
   ],
   "outputs": [],
   "execution_count": null
  },
  {
   "cell_type": "code",
   "metadata": {
    "id": "Sy6iQUtLsOhe",
    "colab": {
     "base_uri": "https://localhost:8080/",
     "height": 226
    },
    "executionInfo": {
     "status": "ok",
     "timestamp": 1761284916200,
     "user_tz": 420,
     "elapsed": 71,
     "user": {
      "displayName": "Richard Gessner",
      "userId": "04866485102218961500"
     }
    },
    "outputId": "383434e7-deed-4896-c037-ecd7d7c4a93c"
   },
   "source": [
    "# Select only numerical features\n",
    "df_num = df.select_dtypes(include=['float64', 'int64'])\n",
    "df_num.head()"
   ],
   "outputs": [],
   "execution_count": null
  },
  {
   "cell_type": "code",
   "metadata": {
    "id": "27nKewbGsOhe",
    "colab": {
     "base_uri": "https://localhost:8080/"
    },
    "executionInfo": {
     "status": "ok",
     "timestamp": 1761284917882,
     "user_tz": 420,
     "elapsed": 7,
     "user": {
      "displayName": "Richard Gessner",
      "userId": "04866485102218961500"
     }
    },
    "outputId": "ffeece16-c21c-415b-d047-321024f94e2c"
   },
   "source": [
    "# Correlation between two features\n",
    "df_num['Evaporation'].corr(df_num['Temp9am'])"
   ],
   "outputs": [],
   "execution_count": null
  },
  {
   "cell_type": "code",
   "metadata": {
    "id": "oFRYLVmNsOhe",
    "colab": {
     "base_uri": "https://localhost:8080/",
     "height": 602
    },
    "executionInfo": {
     "status": "ok",
     "timestamp": 1761284930284,
     "user_tz": 420,
     "elapsed": 49,
     "user": {
      "displayName": "Richard Gessner",
      "userId": "04866485102218961500"
     }
    },
    "outputId": "f0f5344e-d363-48a7-97a0-2a9683c7ad85"
   },
   "source": [
    "# Pair-wise correlation\n",
    "df_num.corr()"
   ],
   "outputs": [],
   "execution_count": null
  },
  {
   "cell_type": "markdown",
   "metadata": {
    "id": "BNpaKjiqsOhf"
   },
   "source": [
    "### Explore categorical features"
   ]
  },
  {
   "cell_type": "code",
   "metadata": {
    "id": "uimXp_KKsOhf",
    "colab": {
     "base_uri": "https://localhost:8080/"
    },
    "executionInfo": {
     "status": "ok",
     "timestamp": 1761284933832,
     "user_tz": 420,
     "elapsed": 11,
     "user": {
      "displayName": "Richard Gessner",
      "userId": "04866485102218961500"
     }
    },
    "outputId": "f61f0104-7731-420a-cb99-01f1dabe18f8"
   },
   "source": [
    "# Print values (i.e., categories) for categorical feature\n",
    "feature = \"WindDir3pm\"\n",
    "df[feature] = df[feature].astype('category')\n",
    "print(\"Values for \", feature, \"\\n\", list(df[feature].cat.categories))"
   ],
   "outputs": [],
   "execution_count": null
  },
  {
   "cell_type": "code",
   "metadata": {
    "scrolled": true,
    "id": "xTCKgxEpsOhf",
    "colab": {
     "base_uri": "https://localhost:8080/",
     "height": 617
    },
    "executionInfo": {
     "status": "ok",
     "timestamp": 1761284935895,
     "user_tz": 420,
     "elapsed": 52,
     "user": {
      "displayName": "Richard Gessner",
      "userId": "04866485102218961500"
     }
    },
    "outputId": "66b009d4-e31f-40e2-e48b-278e7747562d"
   },
   "source": [
    "# Get counts of unique values\n",
    "df[feature].value_counts()"
   ],
   "outputs": [],
   "execution_count": null
  },
  {
   "cell_type": "code",
   "metadata": {
    "id": "atOdAz7isOhf",
    "colab": {
     "base_uri": "https://localhost:8080/",
     "height": 617
    },
    "executionInfo": {
     "status": "ok",
     "timestamp": 1761284938263,
     "user_tz": 420,
     "elapsed": 19,
     "user": {
      "displayName": "Richard Gessner",
      "userId": "04866485102218961500"
     }
    },
    "outputId": "9fcfaa36-49c2-4c52-bc6f-0c770b876f73"
   },
   "source": [
    "# Get frequency of unique values\n",
    "(df[feature].value_counts() / sum(df[feature].value_counts())).round(4)"
   ],
   "outputs": [],
   "execution_count": null
  },
  {
   "cell_type": "markdown",
   "metadata": {
    "id": "uVrqqwwKsOhf"
   },
   "source": [
    "# Data Visualization"
   ]
  },
  {
   "cell_type": "code",
   "metadata": {
    "id": "jV65beKSsOhf",
    "executionInfo": {
     "status": "ok",
     "timestamp": 1761284941297,
     "user_tz": 420,
     "elapsed": 1219,
     "user": {
      "displayName": "Richard Gessner",
      "userId": "04866485102218961500"
     }
    }
   },
   "source": [
    "# Have plots display in notebook\n",
    "%matplotlib inline\n",
    "\n",
    "from matplotlib import pyplot as plt\n",
    "import seaborn as sns"
   ],
   "outputs": [],
   "execution_count": null
  },
  {
   "cell_type": "markdown",
   "metadata": {
    "id": "_NKBUYYUsOhf"
   },
   "source": [
    "## Histogram"
   ]
  },
  {
   "cell_type": "code",
   "metadata": {
    "scrolled": true,
    "id": "lDQGmjSdsOhf",
    "colab": {
     "base_uri": "https://localhost:8080/",
     "height": 335
    },
    "executionInfo": {
     "status": "ok",
     "timestamp": 1761284944352,
     "user_tz": 420,
     "elapsed": 16,
     "user": {
      "displayName": "Richard Gessner",
      "userId": "04866485102218961500"
     }
    },
    "outputId": "1b80a809-2824-418f-a5a9-b164a9bcb3e4"
   },
   "source": [
    "df['Sunshine'].describe()"
   ],
   "outputs": [],
   "execution_count": null
  },
  {
   "cell_type": "markdown",
   "metadata": {
    "id": "NH9u9Ma7sOhf"
   },
   "source": [
    "### Using matplotlib"
   ]
  },
  {
   "cell_type": "code",
   "metadata": {
    "id": "t2pbNdpEsOhf",
    "colab": {
     "base_uri": "https://localhost:8080/",
     "height": 472
    },
    "executionInfo": {
     "status": "ok",
     "timestamp": 1761284947677,
     "user_tz": 420,
     "elapsed": 234,
     "user": {
      "displayName": "Richard Gessner",
      "userId": "04866485102218961500"
     }
    },
    "outputId": "a88a137e-f876-4a1f-862e-ecb1d7758255"
   },
   "source": [
    "plt.hist(df['Sunshine'], bins=10)\n",
    "plt.title(\"Histogram of Daily Sunshine\")\n",
    "plt.xlabel(\"Sunshine (Hours)\")\n",
    "plt.ylabel(\"Frequency\")\n",
    "plt.show()"
   ],
   "outputs": [],
   "execution_count": null
  },
  {
   "cell_type": "markdown",
   "metadata": {
    "id": "DJiI5FaTsOhf"
   },
   "source": [
    "### Using pandas (with matplotlib as backend)"
   ]
  },
  {
   "cell_type": "code",
   "metadata": {
    "id": "ROzP0kJIsOhf",
    "colab": {
     "base_uri": "https://localhost:8080/",
     "height": 472
    },
    "executionInfo": {
     "status": "ok",
     "timestamp": 1761284950234,
     "user_tz": 420,
     "elapsed": 239,
     "user": {
      "displayName": "Richard Gessner",
      "userId": "04866485102218961500"
     }
    },
    "outputId": "c6c97df0-1176-405a-84a3-9e16212c57c2"
   },
   "source": [
    "df['Sunshine'].plot.hist()\n",
    "plt.title(\"Histogram of Daily Sunshine\")\n",
    "plt.xlabel('Sunshine (Hours)')\n",
    "plt.ylabel(\"Frequency\")\n",
    "plt.show()"
   ],
   "outputs": [],
   "execution_count": null
  },
  {
   "cell_type": "markdown",
   "metadata": {
    "id": "90Q88mZzsOhf"
   },
   "source": [
    "## Density Plot"
   ]
  },
  {
   "cell_type": "markdown",
   "metadata": {
    "id": "meryDj_8sOhf"
   },
   "source": [
    "### Using pandas/matplotlib"
   ]
  },
  {
   "cell_type": "code",
   "metadata": {
    "id": "4rOKtUQ4sOhf",
    "colab": {
     "base_uri": "https://localhost:8080/",
     "height": 472
    },
    "executionInfo": {
     "status": "ok",
     "timestamp": 1761284953853,
     "user_tz": 420,
     "elapsed": 189,
     "user": {
      "displayName": "Richard Gessner",
      "userId": "04866485102218961500"
     }
    },
    "outputId": "91bad4d4-8dc9-41f4-8a15-7a8ae4474171"
   },
   "source": [
    "df['Sunshine'].plot.kde()\n",
    "plt.title(\"Density Plot of Daily Sunshine\")\n",
    "plt.xlabel(\"Sunshine (Hours)\")\n",
    "plt.ylabel(\"Density\")\n",
    "plt.show()"
   ],
   "outputs": [],
   "execution_count": null
  },
  {
   "cell_type": "markdown",
   "metadata": {
    "id": "4tV_o7y9sOhf"
   },
   "source": [
    "### Using seaborn"
   ]
  },
  {
   "cell_type": "code",
   "metadata": {
    "id": "CtMKTmgHsOhg",
    "colab": {
     "base_uri": "https://localhost:8080/",
     "height": 472
    },
    "executionInfo": {
     "status": "ok",
     "timestamp": 1761284956116,
     "user_tz": 420,
     "elapsed": 227,
     "user": {
      "displayName": "Richard Gessner",
      "userId": "04866485102218961500"
     }
    },
    "outputId": "f59a0693-5a16-4764-c8a2-325d1ebf49d3"
   },
   "source": [
    "sns.histplot(df['Sunshine'], kde=True, bins=30)\n",
    "plt.title(\"Histogram of Daily Sunshine\")\n",
    "plt.xlabel('Sunshine (Hours)')\n",
    "plt.ylabel(\"Frequency\")\n",
    "plt.show()"
   ],
   "outputs": [],
   "execution_count": null
  },
  {
   "cell_type": "markdown",
   "metadata": {
    "id": "j4Xjd6X0sOhg"
   },
   "source": [
    "## Bar plots for categorical features"
   ]
  },
  {
   "cell_type": "markdown",
   "metadata": {
    "id": "MjAUKC6dsOhg"
   },
   "source": [
    "### Using matplotlib"
   ]
  },
  {
   "cell_type": "code",
   "metadata": {
    "id": "sFiwUvswsOhg",
    "colab": {
     "base_uri": "https://localhost:8080/"
    },
    "executionInfo": {
     "status": "ok",
     "timestamp": 1761284958958,
     "user_tz": 420,
     "elapsed": 45,
     "user": {
      "displayName": "Richard Gessner",
      "userId": "04866485102218961500"
     }
    },
    "outputId": "be3681b7-3a77-4c11-ce92-6fba21b94e3b"
   },
   "source": [
    "df['WindGustDir'].unique()"
   ],
   "outputs": [],
   "execution_count": null
  },
  {
   "cell_type": "code",
   "metadata": {
    "id": "e77Q4UcFsOhg",
    "executionInfo": {
     "status": "ok",
     "timestamp": 1761284961780,
     "user_tz": 420,
     "elapsed": 10,
     "user": {
      "displayName": "Richard Gessner",
      "userId": "04866485102218961500"
     }
    }
   },
   "source": [
    "# Order values based on direction instead (N, E, S, W)\n",
    "x_data = ['N','NNE','NE','ENE','E','ESE','SE','SSE','S','SSW','SW','WSW','W','WNW','NW','NNW']\n",
    "freq_data = df['WindGustDir'].value_counts()\n",
    "# x_data = ['N','NNW','NW','WNW','W','WSW','SW','SSW','S','SSE','SE','ESE','E','ENE','NE','NNE']\n",
    "y_data = [freq_data[k] for k in x_data]"
   ],
   "outputs": [],
   "execution_count": null
  },
  {
   "cell_type": "code",
   "metadata": {
    "id": "bYjnXCsdsOhg",
    "colab": {
     "base_uri": "https://localhost:8080/",
     "height": 405
    },
    "executionInfo": {
     "status": "ok",
     "timestamp": 1761284962878,
     "user_tz": 420,
     "elapsed": 153,
     "user": {
      "displayName": "Richard Gessner",
      "userId": "04866485102218961500"
     }
    },
    "outputId": "680a95f9-5b13-45ab-8707-1e9d617715e5"
   },
   "source": [
    "plt.figure(figsize=(10, 5))\n",
    "plt.bar(x=x_data, height=y_data)\n",
    "plt.title(\"Distribution of Wind Gust Direction\")\n",
    "plt.xlabel(\"Frequency\")\n",
    "plt.ylabel(\"Wind Gust Direction\")\n",
    "plt.show()"
   ],
   "outputs": [],
   "execution_count": null
  },
  {
   "cell_type": "markdown",
   "metadata": {
    "id": "XQGibWy_sOhg"
   },
   "source": [
    "### Using Seaborne"
   ]
  },
  {
   "cell_type": "code",
   "metadata": {
    "id": "jUD1vZQfsOhg",
    "colab": {
     "base_uri": "https://localhost:8080/",
     "height": 405
    },
    "executionInfo": {
     "status": "ok",
     "timestamp": 1761284968349,
     "user_tz": 420,
     "elapsed": 249,
     "user": {
      "displayName": "Richard Gessner",
      "userId": "04866485102218961500"
     }
    },
    "outputId": "b5360e37-87d5-4e84-e7b2-c4380e042842"
   },
   "source": [
    "plt.figure(figsize=(10, 5))\n",
    "sns.barplot(x=x_data, y=y_data, color=\"skyblue\")\n",
    "plt.title(\"Distribution of Wind Gust Direction\")\n",
    "plt.xlabel(\"Frequency\")\n",
    "plt.ylabel(\"Wind Gust Direction\")\n",
    "plt.show()"
   ],
   "outputs": [],
   "execution_count": null
  },
  {
   "cell_type": "markdown",
   "metadata": {
    "id": "w4WNhyH3sOhg"
   },
   "source": [
    "## Scatter Plot"
   ]
  },
  {
   "cell_type": "code",
   "metadata": {
    "id": "orVfZTz9sOhg",
    "colab": {
     "base_uri": "https://localhost:8080/",
     "height": 472
    },
    "executionInfo": {
     "status": "ok",
     "timestamp": 1761284972450,
     "user_tz": 420,
     "elapsed": 162,
     "user": {
      "displayName": "Richard Gessner",
      "userId": "04866485102218961500"
     }
    },
    "outputId": "7c412331-bcb2-49a3-aeb4-b9008020d56e"
   },
   "source": [
    "plt.scatter(x=df['Evaporation'], y=df['Temp9am'])\n",
    "plt.title('Evaporation vs. Temp9am')\n",
    "plt.xlabel('Evaporation')\n",
    "plt.ylabel('Temp9am')\n",
    "plt.show()"
   ],
   "outputs": [],
   "execution_count": null
  },
  {
   "cell_type": "code",
   "metadata": {
    "id": "wZTPzHNBsOhg",
    "colab": {
     "base_uri": "https://localhost:8080/",
     "height": 449
    },
    "executionInfo": {
     "status": "ok",
     "timestamp": 1761284974811,
     "user_tz": 420,
     "elapsed": 114,
     "user": {
      "displayName": "Richard Gessner",
      "userId": "04866485102218961500"
     }
    },
    "outputId": "b3c01be6-bf93-44e7-fe25-ab64b592aa2b"
   },
   "source": [
    "sns.scatterplot(x='Evaporation', y='Temp9am', data=df)\n",
    "plt.show()"
   ],
   "outputs": [],
   "execution_count": null
  },
  {
   "cell_type": "code",
   "metadata": {
    "id": "aSpwMA7ZsOhg",
    "colab": {
     "base_uri": "https://localhost:8080/",
     "height": 449
    },
    "executionInfo": {
     "status": "ok",
     "timestamp": 1761284977583,
     "user_tz": 420,
     "elapsed": 222,
     "user": {
      "displayName": "Richard Gessner",
      "userId": "04866485102218961500"
     }
    },
    "outputId": "5b54df5f-236b-4a8b-c428-f9ab6b388bd9"
   },
   "source": [
    "sns.regplot(x='Evaporation', y='Temp9am', data=df, marker='+')\n",
    "plt.show()"
   ],
   "outputs": [],
   "execution_count": null
  },
  {
   "cell_type": "markdown",
   "metadata": {
    "id": "PYkmcvpPsOhg"
   },
   "source": [
    "## Line Plot"
   ]
  },
  {
   "cell_type": "code",
   "metadata": {
    "id": "rdLO02-rsOhg",
    "colab": {
     "base_uri": "https://localhost:8080/",
     "height": 463
    },
    "executionInfo": {
     "status": "ok",
     "timestamp": 1761284979938,
     "user_tz": 420,
     "elapsed": 226,
     "user": {
      "displayName": "Richard Gessner",
      "userId": "04866485102218961500"
     }
    },
    "outputId": "195b5888-bf10-44ed-b6bb-564d5c986a7f"
   },
   "source": [
    "plt.figure(figsize=(10,6))\n",
    "plt.plot(df['Date'], df['MaxTemp'])\n",
    "plt.title('Daily High Temperature')\n",
    "plt.show()"
   ],
   "outputs": [],
   "execution_count": null
  },
  {
   "cell_type": "code",
   "metadata": {
    "id": "UvbMNgdlsOhg",
    "colab": {
     "base_uri": "https://localhost:8080/",
     "height": 468
    },
    "executionInfo": {
     "status": "ok",
     "timestamp": 1761284982403,
     "user_tz": 420,
     "elapsed": 344,
     "user": {
      "displayName": "Richard Gessner",
      "userId": "04866485102218961500"
     }
    },
    "outputId": "38211b54-cb80-405a-ecce-201e63e05f1c"
   },
   "source": [
    "plt.figure(figsize=(10,6))\n",
    "sns.lineplot(x='Date', y='MaxTemp', data=df)\n",
    "plt.title('Daily High Temperature')\n",
    "plt.show()"
   ],
   "outputs": [],
   "execution_count": null
  },
  {
   "cell_type": "markdown",
   "metadata": {
    "id": "_EPJQ1X7sOhg"
   },
   "source": [
    "## Box Plot"
   ]
  },
  {
   "cell_type": "code",
   "metadata": {
    "id": "KP6LaVWvsOhg",
    "colab": {
     "base_uri": "https://localhost:8080/",
     "height": 459
    },
    "executionInfo": {
     "status": "ok",
     "timestamp": 1761284985488,
     "user_tz": 420,
     "elapsed": 220,
     "user": {
      "displayName": "Richard Gessner",
      "userId": "04866485102218961500"
     }
    },
    "outputId": "5e83b30a-2e7c-4d8b-9445-540b30e55206"
   },
   "source": [
    "plt.figure(figsize=(10,6))\n",
    "sns.boxplot(x='RainToday', y='Pressure9am', data=df)\n",
    "plt.title('Atmospheric Pressure wrt Rain')\n",
    "plt.show()"
   ],
   "outputs": [],
   "execution_count": null
  },
  {
   "cell_type": "code",
   "metadata": {
    "id": "TfHuPOcLsOhh",
    "colab": {
     "base_uri": "https://localhost:8080/",
     "height": 468
    },
    "executionInfo": {
     "status": "ok",
     "timestamp": 1761284987829,
     "user_tz": 420,
     "elapsed": 264,
     "user": {
      "displayName": "Richard Gessner",
      "userId": "04866485102218961500"
     }
    },
    "outputId": "628beb5e-69cc-42b5-b59e-5eff7b1c8067"
   },
   "source": [
    "plt.figure(figsize=(10,6))\n",
    "sns.boxplot(x=pd.DatetimeIndex(df['Date']).month, y='MaxTemp', data=df)\n",
    "plt.title('High Temperature by Month')\n",
    "plt.xlabel('Month')\n",
    "plt.show()"
   ],
   "outputs": [],
   "execution_count": null
  },
  {
   "cell_type": "markdown",
   "metadata": {
    "id": "_V4yZDW1sOhh"
   },
   "source": [
    "## Violin Plot"
   ]
  },
  {
   "cell_type": "code",
   "metadata": {
    "id": "AUP8M5xwsOhh",
    "colab": {
     "base_uri": "https://localhost:8080/",
     "height": 468
    },
    "executionInfo": {
     "status": "ok",
     "timestamp": 1761284990883,
     "user_tz": 420,
     "elapsed": 1102,
     "user": {
      "displayName": "Richard Gessner",
      "userId": "04866485102218961500"
     }
    },
    "outputId": "04d172ed-66bc-44d0-fe8c-d5b98e4ce9d8"
   },
   "source": [
    "plt.figure(figsize=(10,6))\n",
    "sns.violinplot(x=pd.DatetimeIndex(df['Date']).month, y='MaxTemp', data=df)\n",
    "plt.title('High Temperature by Month')\n",
    "plt.show()"
   ],
   "outputs": [],
   "execution_count": null
  },
  {
   "cell_type": "markdown",
   "metadata": {
    "id": "lOtmig89sOhh"
   },
   "source": [
    "## Heat Map"
   ]
  },
  {
   "cell_type": "code",
   "metadata": {
    "id": "yobJLLVfsOhh",
    "colab": {
     "base_uri": "https://localhost:8080/",
     "height": 636
    },
    "executionInfo": {
     "status": "ok",
     "timestamp": 1761284998656,
     "user_tz": 420,
     "elapsed": 457,
     "user": {
      "displayName": "Richard Gessner",
      "userId": "04866485102218961500"
     }
    },
    "outputId": "1fb6bb7c-4d5d-4297-b236-a3a54402b9f1"
   },
   "source": [
    "plt.figure(figsize=(10,8))\n",
    "plt.title('Correlation Heatmap')\n",
    "sns.heatmap(df_num.corr(),annot=False, fmt=\"f\", cmap=\"YlGnBu\", linewidths=0.5)\n",
    "plt.show()"
   ],
   "outputs": [],
   "execution_count": null
  },
  {
   "cell_type": "code",
   "metadata": {
    "id": "aJPzoJ-5sOhh",
    "colab": {
     "base_uri": "https://localhost:8080/",
     "height": 627
    },
    "executionInfo": {
     "status": "ok",
     "timestamp": 1761285002491,
     "user_tz": 420,
     "elapsed": 205,
     "user": {
      "displayName": "Richard Gessner",
      "userId": "04866485102218961500"
     }
    },
    "outputId": "a3895d28-60a8-4d3d-f7b6-d5576459e1f0"
   },
   "source": [
    "plt.figure(figsize=(10,8))\n",
    "sns.heatmap(df_num[['Sunshine', 'Pressure9am', 'Humidity9am', 'Temp9am']].corr(),\n",
    "            annot=True, fmt=\".4f\", cmap=\"YlGnBu\", linewidths=4.5)\n",
    "plt.title('Pairwise Correlation')\n",
    "plt.show()"
   ],
   "outputs": [],
   "execution_count": null
  }
 ],
 "metadata": {
  "kernelspec": {
   "display_name": "Python 3",
   "language": "python",
   "name": "python3"
  },
  "language_info": {
   "codemirror_mode": {
    "name": "ipython",
    "version": 3
   },
   "file_extension": ".py",
   "mimetype": "text/x-python",
   "name": "python",
   "nbconvert_exporter": "python",
   "pygments_lexer": "ipython3",
   "version": "3.8.3"
  },
  "colab": {
   "provenance": []
  }
 },
 "nbformat": 4,
 "nbformat_minor": 0
}
