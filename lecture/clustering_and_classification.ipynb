{
 "cells": [
  {
   "cell_type": "markdown",
   "metadata": {
    "id": "h2OXd7d7opNU"
   },
   "source": [
    "# Clustering and Classification\n",
    "## Side-by-Side Comparison with Fake Customer Data\n",
    "\n",
    "This notebook demonstrates:\n",
    "1. **Clustering (Unsupervised)**: Find natural groups without labels\n",
    "2. **Classification (Supervised)**: Predict labels using a labeled dataset"
   ]
  },
  {
   "cell_type": "markdown",
   "metadata": {
    "id": "Q8Iwp4n5opNX"
   },
   "source": [
    "## Setup"
   ]
  },
  {
   "cell_type": "code",
   "metadata": {
    "id": "jhQKEHfUopNX",
    "executionInfo": {
     "status": "ok",
     "timestamp": 1761266040060,
     "user_tz": 420,
     "elapsed": 16289,
     "user": {
      "displayName": "Richard Gessner",
      "userId": "04866485102218961500"
     }
    }
   },
   "source": [
    "import numpy as np\n",
    "import pandas as pd\n",
    "import matplotlib.pyplot as plt\n",
    "from sklearn.cluster import KMeans\n",
    "from sklearn.tree import DecisionTreeClassifier\n",
    "from sklearn.model_selection import train_test_split\n",
    "from sklearn.metrics import accuracy_score\n",
    "\n",
    "# Set seed for reproducibility\n",
    "np.random.seed(42)"
   ],
   "outputs": [],
   "execution_count": null
  },
  {
   "cell_type": "markdown",
   "metadata": {
    "id": "QRjz3enBopNY"
   },
   "source": [
    "## Create Fake Customer Data\n",
    "\n",
    "100 customers with two features:\n",
    "- **Age**: 20-60 years\n",
    "- **Annual Spending**: \\$1,000 - \\$100,000\n",
    "\n",
    "There are naturally 3 groups (but we'll pretend not to know that in clustering)"
   ]
  },
  {
   "cell_type": "code",
   "metadata": {
    "colab": {
     "base_uri": "https://localhost:8080/"
    },
    "id": "kNDOlAsMopNY",
    "executionInfo": {
     "status": "ok",
     "timestamp": 1761266040125,
     "user_tz": 420,
     "elapsed": 61,
     "user": {
      "displayName": "Richard Gessner",
      "userId": "04866485102218961500"
     }
    },
    "outputId": "a05f2842-c3a3-4eac-dac9-7f21c510bd25"
   },
   "source": [
    "# Create 3 natural customer groups\n",
    "\n",
    "# Group 1: Young, low spenders (students, budget-conscious)\n",
    "group1_age = np.random.normal(25, 3, 30)\n",
    "group1_spending = np.random.normal(5000, 1000, 30)\n",
    "\n",
    "# Group 2: Middle-aged, medium spenders (working professionals)\n",
    "group2_age = np.random.normal(40, 5, 40)\n",
    "group2_spending = np.random.normal(30000, 5000, 40)\n",
    "\n",
    "# Group 3: Older, high spenders (wealthy, established)\n",
    "group3_age = np.random.normal(55, 4, 30)\n",
    "group3_spending = np.random.normal(60000, 8000, 30)\n",
    "\n",
    "# Combine all groups\n",
    "age = np.concatenate([group1_age, group2_age, group3_age])\n",
    "spending = np.concatenate([group1_spending, group2_spending, group3_spending])\n",
    "spending = np.maximum(spending, 1000)  # No negative spending\n",
    "\n",
    "# Create DataFrame\n",
    "df = pd.DataFrame({\n",
    "    'age': age,\n",
    "    'spending': spending\n",
    "})\n",
    "\n",
    "# For classification later: create TRUE labels (high/low spender)\n",
    "# We'll hide these during clustering, then use them for classification\n",
    "df['high_spender'] = (df['spending'] > df['spending'].median()).astype(int)\n",
    "\n",
    "print(f\"Dataset: {len(df)} customers\")\n",
    "print(f\"Age range: {df['age'].min():.1f} - {df['age'].max():.1f}\")\n",
    "print(f\"Spending range: ${df['spending'].min():,.0f} - ${df['spending'].max():,.0f}\")\n",
    "print(f\"\\nFirst 5 customers:\")\n",
    "print(df.head())"
   ],
   "outputs": [],
   "execution_count": null
  },
  {
   "cell_type": "markdown",
   "metadata": {
    "id": "vOnU98TEopNZ"
   },
   "source": [
    "## Visualize Raw Data"
   ]
  },
  {
   "cell_type": "code",
   "metadata": {
    "colab": {
     "base_uri": "https://localhost:8080/",
     "height": 642
    },
    "id": "O3u5CyLYopNZ",
    "executionInfo": {
     "status": "ok",
     "timestamp": 1761266057206,
     "user_tz": 420,
     "elapsed": 379,
     "user": {
      "displayName": "Richard Gessner",
      "userId": "04866485102218961500"
     }
    },
    "outputId": "8c744360-e6ad-4060-c7a6-4cd1acee309a"
   },
   "source": [
    "plt.figure(figsize=(10, 6))\n",
    "plt.scatter(df['age'], df['spending'], alpha=0.6, s=100)\n",
    "plt.xlabel('Age', fontsize=12)\n",
    "plt.ylabel('Annual Spending ($)', fontsize=12)\n",
    "plt.title('100 Customers (unlabeled)', fontsize=14, fontweight='bold')\n",
    "plt.grid(True, alpha=0.3)\n",
    "plt.tight_layout()\n",
    "plt.show()\n",
    "\n",
    "print(\"Question 1: Are there natural groups here?\")\n",
    "print(\"Question 2: What are they? (we'll find out with clustering)\")"
   ],
   "outputs": [],
   "execution_count": null
  },
  {
   "cell_type": "markdown",
   "metadata": {
    "id": "PubcGy42opNZ"
   },
   "source": [
    "---\n",
    "# PART 1: CLUSTERING (Unsupervised)\n",
    "## Find natural groups WITHOUT labels"
   ]
  },
  {
   "cell_type": "markdown",
   "metadata": {
    "id": "r6YRi8ntopNZ"
   },
   "source": [
    "## Step 1: Elbow Method - Find the Right k"
   ]
  },
  {
   "cell_type": "code",
   "metadata": {
    "colab": {
     "base_uri": "https://localhost:8080/"
    },
    "id": "imgb7pHWopNa",
    "executionInfo": {
     "status": "ok",
     "timestamp": 1761266066122,
     "user_tz": 420,
     "elapsed": 222,
     "user": {
      "displayName": "Richard Gessner",
      "userId": "04866485102218961500"
     }
    },
    "outputId": "79d4c1ef-4886-48af-bb9c-37a8994d564e"
   },
   "source": [
    "# Try k = 1, 2, 3, 4, 5, 6, 7, 8, 9, 10\n",
    "k_values = range(1, 11)\n",
    "wcss = []  # Within-Cluster Sum of Squares\n",
    "\n",
    "for k in k_values:\n",
    "    kmeans = KMeans(n_clusters=k, random_state=42, n_init=10)\n",
    "    kmeans.fit(df[['age', 'spending']])\n",
    "    wcss.append(kmeans.inertia_)  # inertia_ is the WCSS\n",
    "\n",
    "# Print results\n",
    "print(\"K-Means Results:\")\n",
    "print(\"-\" * 40)\n",
    "for k, w in zip(k_values, wcss):\n",
    "    print(f\"k={k:2d}: WCSS = {w:12,.0f}\")"
   ],
   "outputs": [],
   "execution_count": null
  },
  {
   "cell_type": "markdown",
   "metadata": {
    "id": "tbhSK39HopNa"
   },
   "source": [
    "## Plot the Elbow"
   ]
  },
  {
   "cell_type": "code",
   "metadata": {
    "colab": {
     "base_uri": "https://localhost:8080/",
     "height": 642
    },
    "id": "ybABvkFEopNa",
    "executionInfo": {
     "status": "ok",
     "timestamp": 1761266072864,
     "user_tz": 420,
     "elapsed": 314,
     "user": {
      "displayName": "Richard Gessner",
      "userId": "04866485102218961500"
     }
    },
    "outputId": "8046f92c-8496-4346-c8db-eae6f701b1ec"
   },
   "source": [
    "plt.figure(figsize=(10, 6))\n",
    "plt.plot(k_values, wcss, 'bo-', linewidth=2, markersize=8)\n",
    "plt.xlabel('Number of Clusters (k)', fontsize=12)\n",
    "plt.ylabel('Within-Cluster Sum of Squares (WCSS)', fontsize=12)\n",
    "plt.title('Elbow Method: Finding the Right k', fontsize=14, fontweight='bold')\n",
    "plt.grid(True, alpha=0.3)\n",
    "\n",
    "# Mark the elbow (visual inspection suggests k=3)\n",
    "plt.axvline(x=3, color='red', linestyle='--', linewidth=2, label='Elbow at k=3')\n",
    "plt.legend(fontsize=11)\n",
    "\n",
    "plt.tight_layout()\n",
    "plt.show()\n",
    "\n",
    "print(\"Notice the sharp drop from k=1 to k=3, then it flattens out.\")\n",
    "print(\"The 'elbow' is at k=3 → this is our optimal number of clusters.\")"
   ],
   "outputs": [],
   "execution_count": null
  },
  {
   "cell_type": "markdown",
   "metadata": {
    "id": "LOK8nbgpopNa"
   },
   "source": [
    "## Step 2: Fit K-Means with k=3"
   ]
  },
  {
   "cell_type": "code",
   "metadata": {
    "colab": {
     "base_uri": "https://localhost:8080/"
    },
    "id": "7W5hSIdHopNa",
    "executionInfo": {
     "status": "ok",
     "timestamp": 1761266078278,
     "user_tz": 420,
     "elapsed": 16,
     "user": {
      "displayName": "Richard Gessner",
      "userId": "04866485102218961500"
     }
    },
    "outputId": "7918ef47-922c-4817-d008-15fa39ff358e"
   },
   "source": [
    "# Train k-means with k=3\n",
    "kmeans = KMeans(n_clusters=3, random_state=42, n_init=10)\n",
    "df['cluster'] = kmeans.fit_predict(df[['age', 'spending']])\n",
    "\n",
    "# Get cluster centers\n",
    "centers = kmeans.cluster_centers_\n",
    "\n",
    "print(\"Cluster Centers:\")\n",
    "print(\"-\" * 60)\n",
    "for i, center in enumerate(centers):\n",
    "    print(f\"Cluster {i}: Age={center[0]:.1f}, Spending=${center[1]:,.0f}\")\n",
    "\n",
    "print(\"\\nCluster Assignments:\")\n",
    "print(df[['age', 'spending', 'cluster']].head(15))"
   ],
   "outputs": [],
   "execution_count": null
  },
  {
   "cell_type": "markdown",
   "metadata": {
    "id": "8j4CVsNkopNb"
   },
   "source": [
    "## Visualize Clusters"
   ]
  },
  {
   "cell_type": "code",
   "metadata": {
    "colab": {
     "base_uri": "https://localhost:8080/",
     "height": 694
    },
    "id": "LCncrfHNopNb",
    "executionInfo": {
     "status": "ok",
     "timestamp": 1761266082052,
     "user_tz": 420,
     "elapsed": 345,
     "user": {
      "displayName": "Richard Gessner",
      "userId": "04866485102218961500"
     }
    },
    "outputId": "84113bf8-ceb5-4070-aa09-b219e1e28c5e"
   },
   "source": [
    "plt.figure(figsize=(10, 6))\n",
    "\n",
    "# Plot each cluster in a different color\n",
    "colors = ['red', 'green', 'blue']\n",
    "for i in range(3):\n",
    "    cluster_points = df[df['cluster'] == i]\n",
    "    plt.scatter(cluster_points['age'], cluster_points['spending'],\n",
    "               c=colors[i], label=f'Cluster {i}', alpha=0.6, s=100)\n",
    "\n",
    "# Plot cluster centers\n",
    "plt.scatter(centers[:, 0], centers[:, 1],\n",
    "           c='black', marker='X', s=400, edgecolors='white', linewidth=2,\n",
    "           label='Centroids')\n",
    "\n",
    "plt.xlabel('Age', fontsize=12)\n",
    "plt.ylabel('Annual Spending ($)', fontsize=12)\n",
    "plt.title('K-Means Clustering (k=3): Found 3 Natural Customer Groups', fontsize=14, fontweight='bold')\n",
    "plt.legend(fontsize=11)\n",
    "plt.grid(True, alpha=0.3)\n",
    "plt.tight_layout()\n",
    "plt.show()\n",
    "\n",
    "print(\"\\n✓ Clustering discovered 3 natural customer segments!\")\n",
    "print(\"  Cluster 0: Young, low spenders\")\n",
    "print(\"  Cluster 1: Middle-aged, medium spenders\")\n",
    "print(\"  Cluster 2: Older, high spenders\")"
   ],
   "outputs": [],
   "execution_count": null
  },
  {
   "cell_type": "markdown",
   "metadata": {
    "id": "kIMq8s3yopNb"
   },
   "source": [
    "---\n",
    "# PART 2: CLASSIFICATION (Supervised)\n",
    "## Predict labels using a labeled dataset"
   ]
  },
  {
   "cell_type": "markdown",
   "metadata": {
    "id": "4w5OWx4BopNb"
   },
   "source": [
    "Now imagine someone labeled some customers as \"high spender\" or \"low spender\" (above/below median spending). We'll use this labeled data to train a classifier."
   ]
  },
  {
   "cell_type": "code",
   "metadata": {
    "colab": {
     "base_uri": "https://localhost:8080/"
    },
    "id": "ZqB2yLiPopNb",
    "executionInfo": {
     "status": "ok",
     "timestamp": 1761266168882,
     "user_tz": 420,
     "elapsed": 33,
     "user": {
      "displayName": "Richard Gessner",
      "userId": "04866485102218961500"
     }
    },
    "outputId": "1c83c49a-697a-4033-b6e9-f5acd07afa74"
   },
   "source": [
    "# Split into train/test\n",
    "X = df[['age', 'spending']]\n",
    "y = df['high_spender']  # 1 = high spender, 0 = low spender\n",
    "\n",
    "X_train, X_test, y_train, y_test = train_test_split(X, y, test_size=0.3, random_state=42)\n",
    "\n",
    "# Train decision tree classifier\n",
    "clf = DecisionTreeClassifier(max_depth=3, random_state=42)\n",
    "clf.fit(X_train, y_train)\n",
    "\n",
    "# Evaluate\n",
    "train_acc = accuracy_score(y_train, clf.predict(X_train))\n",
    "test_acc = accuracy_score(y_test, clf.predict(X_test))\n",
    "\n",
    "print(\"Classification Results:\")\n",
    "print(\"-\" * 40)\n",
    "print(f\"Training accuracy: {train_acc:.1%}\")\n",
    "print(f\"Testing accuracy: {test_acc:.1%}\")\n",
    "print(f\"\\n✓ The model learned to predict 'high spender' vs 'low spender'\")"
   ],
   "outputs": [],
   "execution_count": null
  },
  {
   "cell_type": "markdown",
   "metadata": {
    "id": "FmrS503mopNb"
   },
   "source": [
    "## Make Predictions"
   ]
  },
  {
   "cell_type": "code",
   "metadata": {
    "colab": {
     "base_uri": "https://localhost:8080/"
    },
    "id": "eeMlFXlEopNb",
    "executionInfo": {
     "status": "ok",
     "timestamp": 1761266172718,
     "user_tz": 420,
     "elapsed": 5,
     "user": {
      "displayName": "Richard Gessner",
      "userId": "04866485102218961500"
     }
    },
    "outputId": "a98a802f-f331-4f66-a637-266dbd8c276f"
   },
   "source": [
    "# Show some test predictions\n",
    "sample_predictions = X_test.head(8).copy()\n",
    "sample_predictions['predicted'] = clf.predict(X_test.head(8))\n",
    "sample_predictions['actual'] = y_test.head(8).values\n",
    "sample_predictions['predicted'] = sample_predictions['predicted'].map({1: 'High', 0: 'Low'})\n",
    "sample_predictions['actual'] = sample_predictions['actual'].map({1: 'High', 0: 'Low'})\n",
    "\n",
    "print(sample_predictions)\n",
    "print(\"\\n✓ The model predicted whether each customer is a high or low spender\")"
   ],
   "outputs": [],
   "execution_count": null
  },
  {
   "cell_type": "markdown",
   "metadata": {
    "id": "7H0UW0onopNb"
   },
   "source": [
    "## Visualize Classification Decision Boundary"
   ]
  },
  {
   "cell_type": "code",
   "metadata": {
    "colab": {
     "base_uri": "https://localhost:8080/",
     "height": 731
    },
    "id": "o7kD-5C2opNb",
    "executionInfo": {
     "status": "ok",
     "timestamp": 1761266191987,
     "user_tz": 420,
     "elapsed": 441,
     "user": {
      "displayName": "Richard Gessner",
      "userId": "04866485102218961500"
     }
    },
    "outputId": "c3bb35bd-5f47-4e5b-92c7-2f1d9e9e7865"
   },
   "source": [
    "# Create a mesh to visualize the decision boundary\n",
    "age_min, age_max = df['age'].min() - 5, df['age'].max() + 5\n",
    "spending_min, spending_max = df['spending'].min() - 5000, df['spending'].max() + 5000\n",
    "\n",
    "xx, yy = np.meshgrid(np.linspace(age_min, age_max, 100),\n",
    "                      np.linspace(spending_min, spending_max, 100))\n",
    "\n",
    "Z = clf.predict(np.c_[xx.ravel(), yy.ravel()])\n",
    "Z = Z.reshape(xx.shape)\n",
    "\n",
    "plt.figure(figsize=(10, 6))\n",
    "\n",
    "# Plot decision boundary\n",
    "plt.contourf(xx, yy, Z, alpha=0.3, levels=[0, 0.5, 1], colors=['lightblue', 'lightcoral'])\n",
    "plt.contour(xx, yy, Z, colors='black', linewidths=2, levels=[0.5])\n",
    "\n",
    "# Plot actual data points\n",
    "low_spenders = df[df['high_spender'] == 0]\n",
    "high_spenders = df[df['high_spender'] == 1]\n",
    "\n",
    "plt.scatter(low_spenders['age'], low_spenders['spending'],\n",
    "           c='blue', label='Low Spender', alpha=0.6, s=100)\n",
    "plt.scatter(high_spenders['age'], high_spenders['spending'],\n",
    "           c='red', label='High Spender', alpha=0.6, s=100)\n",
    "\n",
    "plt.xlabel('Age', fontsize=12)\n",
    "plt.ylabel('Annual Spending ($)', fontsize=12)\n",
    "plt.title('Decision Tree Classification: Predicting High vs Low Spenders', fontsize=14, fontweight='bold')\n",
    "plt.legend(fontsize=11)\n",
    "plt.grid(True, alpha=0.3)\n",
    "plt.tight_layout()\n",
    "plt.show()\n",
    "\n",
    "print(\"The shaded regions show what the model predicts:\")\n",
    "print(\"  - Blue region: Low Spender\")\n",
    "print(\"  - Red region: High Spender\")\n",
    "print(\"  - Black line: Decision boundary\")"
   ],
   "outputs": [],
   "execution_count": null
  },
  {
   "cell_type": "markdown",
   "metadata": {
    "id": "lTfUC22ropNc"
   },
   "source": [
    "---\n",
    "# COMPARISON: Clustering vs Classification"
   ]
  },
  {
   "cell_type": "markdown",
   "metadata": {
    "id": "bQoO8cVhopNc"
   },
   "source": [
    "| Aspect | Clustering | Classification |\n",
    "|--------|---|---|\n",
    "| **Type** | Unsupervised | Supervised |\n",
    "| **Input** | Unlabeled data | Labeled data |\n",
    "| **Goal** | Find natural groups | Predict labels for new data |\n",
    "| **Output** | Cluster assignments | Label predictions |\n",
    "| **Example** | \"These 100 customers form 3 groups\" | \"This new customer is a high spender\" |\n",
    "| **Question** | \"What groups exist?\" | \"Which group does this belong to?\" |\n",
    "\n",
    "**Key Insight**: Clustering discovers structure. Classification uses known structure to make predictions."
   ]
  },
  {
   "cell_type": "markdown",
   "metadata": {
    "id": "y9IWsLjZopNc"
   },
   "source": [
    "## One More Thing: Clustering → Classification Workflow"
   ]
  },
  {
   "cell_type": "markdown",
   "metadata": {
    "id": "BqecwpoTopNc"
   },
   "source": [
    "In practice, you often:\n",
    "\n",
    "1. **Cluster** the data to find natural groups\n",
    "2. **Inspect** the clusters (a human looks at them)\n",
    "3. **Label** a few examples from each cluster\n",
    "4. **Train** a classifier on those labeled examples\n",
    "5. **Predict** for all remaining unlabeled data\n",
    "\n",
    "This is called **weak supervision** and is how many real-world systems work when you have tons of unlabeled data but limited resources to label it."
   ]
  }
 ],
 "metadata": {
  "kernelspec": {
   "display_name": "Python 3",
   "language": "python",
   "name": "python3"
  },
  "language_info": {
   "name": "python",
   "version": "3.9.0"
  },
  "colab": {
   "provenance": []
  }
 },
 "nbformat": 4,
 "nbformat_minor": 0
}
