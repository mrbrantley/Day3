{
 "cells": [
  {
   "cell_type": "markdown",
   "metadata": {
    "id": "DwTajS2gceOZ"
   },
   "source": [
    "# Linear Regression Example\n",
    "Portions from prev lectures, github, and kaggle\n"
   ]
  },
  {
   "cell_type": "code",
   "metadata": {
    "colab": {
     "base_uri": "https://localhost:8080/"
    },
    "id": "gmzoYCsSWOHe",
    "outputId": "000e6bb2-a0ab-4ea3-a077-bbf5c432c912"
   },
   "source": [
    "import os\n",
    "import requests\n",
    "\n",
    "import pandas as pd\n",
    "import numpy as np\n",
    "import matplotlib.pyplot as plt\n",
    "\n",
    "\n",
    "thePath = './'  # Adjust this path as necessary\n",
    "theFilename = 'SalesAds.csv'\n",
    "theLink = \"https://dse200.dev/Day3/SalesAds.csv\"\n",
    "\n",
    "if not os.path.exists(thePath + theFilename):\n",
    "    r = requests.get(theLink)\n",
    "    with open(thePath + theFilename, 'wb') as f:\n",
    "        f.write(r.content)\n",
    "\n",
    "theFile = 'SalesAds.csv'\n",
    "df= pd.read_csv(thePath + theFile)\n",
    "print(f\"shape {df.shape}\")\n",
    "\n",
    "#show some data\n",
    "print(df.head())\n",
    "print()\n",
    "\n",
    "#let's take a closer look...\n",
    "print(df.info())\n",
    "print(df.describe())"
   ],
   "outputs": [],
   "execution_count": null
  },
  {
   "cell_type": "markdown",
   "metadata": {
    "id": "MUl7EQwEX6QA"
   },
   "source": [
    "## Linear Regression\n",
    "Linear Regression is a statistical technique that is used to find the linear relationship between a dependent and one or more independent variables. This technique is applicable for Supervised learning Regression problems where we try to predict a continuous variable.\n",
    "\n",
    "Linear Regression can be further classified into two types – Simple and Multiple Linear Regression. In this project, I employ the Simple Linear Regression technique, where I have one independent and one dependent variable. It is the simplest form of Linear Regression where we fit a straight line to the data.\n",
    "\n",
    "\n",
    "\n",
    "Simple Linear Regression (SLR)\n",
    "Simple Linear Regression (or SLR) is the simplest model in machine learning. It models the linear relationship between the independent and dependent variables.\n",
    "\n",
    "In this project, there is one independent or input variable that represents the Sales data and is denoted by X. Similarly, there is one dependent or output variable that represents the Advertising data and is denoted by y. We want to build a linear relationship between these variables. This linear relationship can be modeled by a mathematical equation of the form:\n",
    "\n",
    "Y = β0   + β1*X    -------------   (1)\n",
    "In this equation, X and Y are called independent and dependent variables, respectively, β1 is the coefficient for the independent variable, and β0 is the constant term. β0 and β1 are called parameters of the model.\n",
    "\n",
    "For simplicity, we can compare the above equation with the basic line equation of the form:-\n",
    "\n",
    "```y = ax + b```       ----------------- (2)\n",
    "We can see that the slope of the line is given by a = β1, and the intercept of the line by b = β0.\n",
    "\n",
    "In this Simple Linear Regression model, we want to fit a line that estimates the linear relationship between X and Y. So, the question of fitting reduces to estimating the parameters of the model β0 and β1.\n",
    "\n",
    "\n",
    "\n",
    "## Ordinary Least Square Method\n",
    "As I have described earlier, the Sales and Advertising data are given by X and y, respectively. We can draw a scatter plot between X and y which shows the relationship between them. Now, our task is to find a line that best fits this scatter plot. This line will help us to predict the value of any Target variable for any given Feature variable. This line is called the Regression line. We can define an error function for any line. Then, the regression line is the one that minimizes the error function. Such an error function is also called a Cost function.\n",
    "\n",
    "\n",
    "\n",
    "##Cost Function\n",
    "We want the Regression line to resemble the dataset as closely as possible. In other words, we want the line to be as close to actual data points as possible. It can be achieved by minimizing the vertical distance between the actual data point and the fitted line. I calculate the vertical distance between each data point and the line. This distance is called the residual.\n",
    "\n",
    "So, in a regression model, we try to minimize the residuals by finding the line of best fit. The residuals are represented by the vertical dotted lines from actual data points to the line. We can try to minimize the sum of the residuals, but then a large positive residual would cancel out a large negative residual. For this reason, we minimize the sum of the squares of the residuals.\n",
    "\n",
    "Mathematically, we denote actual data points by yi and predicted data points by ŷi. So, the residual for a data point i would be given as\n",
    "\n",
    "di = yi -  ŷi\n",
    "The sum of the squares of the residuals is given as:\n",
    "\n",
    " D = Ʃ di**2       for all data points\n",
    "This is the Cost function. It denotes the total error present in the model, which is the sum of the total errors of each individual data point.\n",
    "\n",
    "We can estimate the parameters of the model β0 and β1 by minimizing the error in the model by minimizing D. Thus, we can find the regression line given by equation (1). This method of finding the parameters of the model and thus regression line is called the Ordinary Least Square Method.\n",
    "\n",
    "## Independent and Dependent Variables\n",
    "In this project, I refer to the independent variable as the Feature variable and the dependent variable as the Target variable. These variables are also recognized by different names, as follows:\n",
    "\n",
    "\n",
    "\n",
    "## Independent variable\n",
    "The independent variable is also called the Input variable and is denoted by X. In practical applications, the independent variable is also called the Feature variable or Predictor variable. We can denote it as:\n",
    "\n",
    "Independent or Input variable (X) = Feature variable = Predictor variable\n",
    "\n",
    "\n",
    "\n",
    "## Dependent variable\n",
    "The dependent variable is also called the Output variable and is denoted by y.\n",
    "\n",
    "The dependent variable is also called the Target variable or the Response variable. It can be denoted as follows:\n",
    "\n",
    "Dependent or Output variable (y) = Target variable = Response variable\n",
    "\n"
   ]
  },
  {
   "cell_type": "code",
   "metadata": {
    "colab": {
     "base_uri": "https://localhost:8080/",
     "height": 472
    },
    "id": "hxO6-_uJX5xD",
    "outputId": "7c92e989-f92b-46fa-d81c-6e0f56c906cb"
   },
   "source": [
    "\n",
    "\n",
    "# Declare feature variable and target variable\n",
    "\n",
    "X = df['Sales'].values\n",
    "y = df['Ads'].values\n",
    "\n",
    "# Sales and Advertising data values are given by X and y respectively.\n",
    "\n",
    "# Values attribute of pandas dataframe returns the numpy arrays.\n",
    "\n",
    "# Plot scatter plot between X and y\n",
    "\n",
    "plt.scatter(X, y, color = 'blue', label='Scatter Plot')\n",
    "plt.title('Relationship between Sales and Ads')\n",
    "plt.xlabel('Sales')\n",
    "plt.ylabel('Ads')\n",
    "plt.legend(loc=4)\n",
    "plt.show()"
   ],
   "outputs": [],
   "execution_count": null
  },
  {
   "cell_type": "markdown",
   "metadata": {
    "id": "D2f-pLEEZ6RH"
   },
   "source": [
    "## Checking dimensions of X and y\n",
    "We need to check the dimensions of X and y to make sure they are in the right format for Scikit-Learn API. It is an important precursor to model building."
   ]
  },
  {
   "cell_type": "code",
   "metadata": {
    "colab": {
     "base_uri": "https://localhost:8080/"
    },
    "id": "kXsvnHLxZ8HP",
    "outputId": "11f45f48-a615-46de-80ea-1f6ad82f8301"
   },
   "source": [
    "# Print the dimensions of X and y\n",
    "\n",
    "print(X.shape)\n",
    "print(y.shape)\n",
    "(36,)\n",
    "(36,)"
   ],
   "outputs": [],
   "execution_count": null
  },
  {
   "cell_type": "markdown",
   "metadata": {
    "id": "AA5j0QifZ_TW"
   },
   "source": [
    "## Reshaping X and y\n",
    "Since we are working with only one feature variable, so we need to reshape using Numpy reshape() method. It specifies the first dimension to be -1, which means \"unspecified\". Its value is inferred from the length of the array and the remaining dimensions."
   ]
  },
  {
   "cell_type": "code",
   "metadata": {
    "colab": {
     "base_uri": "https://localhost:8080/"
    },
    "id": "kfs_Ge67aAs8",
    "outputId": "0cb283b3-5f51-472d-91af-7306409ade39"
   },
   "source": [
    "# Reshape X and y\n",
    "\n",
    "X = X.reshape(-1,1)\n",
    "y = y.reshape(-1,1)\n",
    "# Print the dimensions of X and y after reshaping\n",
    "\n",
    "print(X.shape)\n",
    "print(y.shape)\n",
    "(36, 1)\n",
    "(36, 1)"
   ],
   "outputs": [],
   "execution_count": null
  },
  {
   "cell_type": "markdown",
   "metadata": {
    "id": "V720RycDaFL-"
   },
   "source": [
    "## The difference in dimensions of X and y after reshaping\n",
    "We can see the difference in dimensions of X and y before and after reshaping. It is essential in this case because getting the feature and target variable right is an important precursor to model building.\n",
    "\n",
    "\n",
    "## Train test split\n",
    "I split the dataset into two sets, namely - the train set and the test set. The model learns the relationships from the training data and predicts them on test data."
   ]
  },
  {
   "cell_type": "code",
   "metadata": {
    "colab": {
     "base_uri": "https://localhost:8080/"
    },
    "id": "_MxLxgDWaEpk",
    "outputId": "e41b2c4f-8c13-42aa-88ad-072fe554ef84"
   },
   "source": [
    "# Split X and y into training and test data sets\n",
    "\n",
    "from sklearn.model_selection import train_test_split\n",
    "X_train,X_test,y_train,y_test = train_test_split(X, y, test_size=0.33, random_state=42)\n",
    "# Print the dimensions of X_train,X_test,y_train,y_test\n",
    "\n",
    "print(X_train.shape)\n",
    "print(y_train.shape)\n",
    "print(X_test.shape)\n",
    "print(y_test.shape)\n",
    "(24, 1)\n",
    "(24, 1)\n",
    "(12, 1)\n",
    "(12, 1)"
   ],
   "outputs": [],
   "execution_count": null
  },
  {
   "cell_type": "markdown",
   "metadata": {
    "id": "PmwlsNhpaPEJ"
   },
   "source": [
    "#Mechanics of the model\n",
    "Let's split the dataset into two sets – the training set and the test set. Then, instantiate the regressor lm and fit it on the training set with the fit method. In this step, the model learned the relationships between the training data (X_train, y_train). Now, the model is ready to make predictions on the test data (X_test). Hence, we predict the test data using the predict method."
   ]
  },
  {
   "cell_type": "code",
   "metadata": {
    "id": "6W5ozlPxaVnQ"
   },
   "source": [
    "# Fit the linear model\n",
    "\n",
    "# Instantiate the linear regression object lm\n",
    "from sklearn.linear_model import LinearRegression\n",
    "lm = LinearRegression()\n",
    "\n",
    "\n",
    "# Train the model using training data sets\n",
    "lm.fit(X_train,y_train)\n",
    "\n",
    "\n",
    "# Predict on the test data\n",
    "y_pred=lm.predict(X_test)"
   ],
   "outputs": [],
   "execution_count": null
  },
  {
   "cell_type": "markdown",
   "metadata": {
    "id": "5ViSjOGtacjU"
   },
   "source": [
    "# Model slope and intercept term\n",
    "The model slope is given by lm.coef and the model intercept term is given by lm.intercept. The estimated model slope and intercept values are 1.60509347 and -11.16003616. So, the equation of the fitted regression line is:\n",
    "\n",
    "```y = 1.60509347 * x - 11.16003616```"
   ]
  },
  {
   "cell_type": "code",
   "metadata": {
    "colab": {
     "base_uri": "https://localhost:8080/"
    },
    "id": "PplJuUy9ag1V",
    "outputId": "b3fd86d6-3768-4e57-c864-fe7616af9e1c"
   },
   "source": [
    "# Compute model slope and intercept\n",
    "\n",
    "a = lm.coef_\n",
    "b = lm.intercept_,\n",
    "# Compute model slope and intercept\n",
    "\n",
    "a = lm.coef_\n",
    "b = lm.intercept_\n",
    "print(\"Estimated model slope, a:\" , a)\n",
    "print(\"Estimated model intercept, b:\" , b)\n",
    "\n",
    "# So, our fitted regression line is\n",
    "\n",
    "# y = 1.60509347 * x - 11.16003616\n",
    "\n",
    "# That is our linear model.\n",
    "\n",
    "# y = 1.60509347 * x - 11.16003616\n",
    "\n",
    "# That is our linear model."
   ],
   "outputs": [],
   "execution_count": null
  },
  {
   "cell_type": "markdown",
   "metadata": {
    "id": "oGtUGkR8a7BX"
   },
   "source": [
    "# Making predictions\n",
    "We predicted the Ad values on the first five Sales datasets by writing code"
   ]
  },
  {
   "cell_type": "code",
   "metadata": {
    "colab": {
     "base_uri": "https://localhost:8080/"
    },
    "id": "dfnwAKI1bARt",
    "outputId": "d3a63dc2-c375-4153-da04-103867fc8748"
   },
   "source": [
    "lm.predict(X) [0:5]"
   ],
   "outputs": [],
   "execution_count": null
  },
  {
   "cell_type": "markdown",
   "metadata": {
    "id": "ZGrcnK_QbEN3"
   },
   "source": [
    "where Xi is the Sales data value of the ith observation.\n"
   ]
  },
  {
   "cell_type": "code",
   "metadata": {
    "colab": {
     "base_uri": "https://localhost:8080/"
    },
    "id": "vBGKFEScbFNK",
    "outputId": "984c5039-0d0d-4f62-cd2c-d9c48a9acdf7"
   },
   "source": [
    "import numpy as np # Import the numpy library\n",
    "\n",
    "# Predicting Advertising values\n",
    "\n",
    "lm.predict(X)[0:5]\n",
    "\n",
    "# Predicting Advertising values on first five Sales values.\n",
    "np.array([[ 8.10108551], # Use np.array to create the array\n",
    "       [21.74438002],\n",
    "       [22.54692675],\n",
    "       [13.71891266],\n",
    "       [13.39789396]])\n",
    "# To make an individual prediction using the linear regression model.\n",
    "\n",
    "# Reshape the input to a 2D array with shape (1, 1)\n",
    "print(str(lm.predict(np.array([[24]]))))\n",
    "# [[27.36220717]] # Expected output"
   ],
   "outputs": [],
   "execution_count": null
  },
  {
   "cell_type": "markdown",
   "metadata": {
    "id": "G-_MHZ1XbhHm"
   },
   "source": [
    "#Regression metrics for model performance\n",
    "Now, it is time to evaluate model performance. For regression problems, there are two ways to compute the model performance. They are RMSE (Root Mean Square Error) and R-Squared Value. These are explained below:\n",
    "\n",
    "\n",
    "\n",
    "#RMSE\n",
    "RMSE is the standard deviation of the residuals. So, RMSE gives us the standard deviation of the unexplained variance by the model. It can be calculated by taking the square root of the Mean Squared Error. RMSE is an absolute measure of fit. It gives us how spread the residuals are, given by the standard deviation of the residuals. The more concentrated the data is around the regression line, the lower the residuals and hence the lower the standard deviation of residuals. It results in lower values of RMSE. So, lower values of RMSE indicate a better fit of data."
   ]
  },
  {
   "cell_type": "code",
   "metadata": {
    "colab": {
     "base_uri": "https://localhost:8080/"
    },
    "id": "fusIwD48blnN",
    "outputId": "24fa5d15-6731-4b31-ef93-8ed18515e180"
   },
   "source": [
    "# Calculate and print Root Mean Square Error(RMSE)\n",
    "\n",
    "from sklearn.metrics import mean_squared_error\n",
    "mse = mean_squared_error(y_test, y_pred)\n",
    "# Calculate and print Root Mean Square Error(RMSE)\n",
    "\n",
    "from sklearn.metrics import mean_squared_error\n",
    "import numpy as np\n",
    "mse = mean_squared_error(y_test, y_pred)\n",
    "rmse = np.sqrt(mse)\n",
    "print(\"RMSE value: {:.4f}\".format(rmse))\n",
    "# RMSE value: 11.2273"
   ],
   "outputs": [],
   "execution_count": null
  },
  {
   "cell_type": "markdown",
   "metadata": {
    "id": "KS14mGjHbskh"
   },
   "source": [
    "## R2 Score\n",
    "R2 Score is another metric to evaluate the performance of a regression model. It is also called the coefficient of determination. It gives us an idea of the goodness of fit for the linear regression models. It indicates the percentage of variance that is explained by the model. Mathematically:\n",
    "\n",
    "R2 Score = Explained Variation/Total Variation\n",
    "\n",
    "In general, the higher the R2 Score value, the better the model fits the data. Usually, its value ranges from 0 to 1. So, we want its value to be as close to 1. Its value can become negative if our model is wrong."
   ]
  },
  {
   "cell_type": "code",
   "metadata": {
    "colab": {
     "base_uri": "https://localhost:8080/"
    },
    "id": "RwesGazqbvuz",
    "outputId": "c5d80a71-588c-4209-f28b-4bf60eef2b89"
   },
   "source": [
    "# Calculate and print r2_score\n",
    "\n",
    "# Calculate and print r2_score\n",
    "\n",
    "from sklearn.metrics import r2_score\n",
    "print (\"R2 Score value: {:.4f}\".format(r2_score(y_test, y_pred)))\n",
    "#R2 Score value: 0.5789"
   ],
   "outputs": [],
   "execution_count": null
  },
  {
   "cell_type": "markdown",
   "metadata": {
    "id": "vNyBfycJb1nq"
   },
   "source": [
    "## Interpretation and Conclusion\n",
    "The RMSE value has been found to be 11.2273. It means the standard deviation for our prediction is 11.2273. So, sometimes we expect the predictions to be off by more than 11.2273, and other times, we expect less than 11.2273. So, the model is not a good fit for the data.\n",
    "\n",
    "In business decisions, the benchmark for the R2 score value is 0.7. It means if the R2 score value >= 0.7, then the model is good enough to deploy on unseen data, whereas if the R2 score value < 0.7, then the model is not good enough to deploy. Our R2 score value has been found to be .5789. It means that this model explains 57.89 % of the variance in our dependent variable. So, the R2 score value confirms that the model is not good enough to deploy because it does not provide a good fit for the data."
   ]
  },
  {
   "cell_type": "code",
   "metadata": {
    "colab": {
     "base_uri": "https://localhost:8080/",
     "height": 472
    },
    "id": "6T-_X9Zjb6ER",
    "outputId": "1c0905bc-47d0-4069-fa19-6a159668f6d0"
   },
   "source": [
    "# Plot the Regression Line\n",
    "\n",
    "plt.scatter(X, y, color = 'blue', label='Scatter Plot')\n",
    "plt.plot(X_test, y_pred, color = 'black', linewidth=3, label = 'Regression Line')\n",
    "plt.title('Relationship between Sales and Advertising')\n",
    "plt.xlabel('Sales')\n",
    "plt.ylabel('Advertising')\n",
    "plt.legend(loc=4)\n",
    "plt.show()"
   ],
   "outputs": [],
   "execution_count": null
  },
  {
   "cell_type": "markdown",
   "metadata": {
    "id": "5Obi3cXZb_lK"
   },
   "source": [
    "## Residual analysis\n",
    "A linear regression model may not represent the data appropriately. The model may be a poor fit for the data. So, we should validate our model by defining and examining residual plots. The difference between the observed value of the dependent variable (y) and the predicted value (ŷi) is called the residual and is denoted by e. The scatter plot of these residuals is called the residual plot. If the data points in a residual plot are randomly dispersed around the horizontal axis and an approximate zero residual mean, a linear regression model may be appropriate for the data. Otherwise, a non-linear model may be more appropriate. If we take a look at the generated 'Residual errors' plot, we can clearly see that the train data plot pattern is non-random. The same is the case with the test data plot pattern. So, it suggests a better fit for a non-linear model."
   ]
  },
  {
   "cell_type": "code",
   "metadata": {
    "colab": {
     "base_uri": "https://localhost:8080/",
     "height": 452
    },
    "id": "7y_45CpxcDfU",
    "outputId": "ad729a98-acbd-4047-fa1b-ad24c5ee4654"
   },
   "source": [
    "# Plotting residual errors\n",
    "\n",
    "plt.scatter(lm.predict(X_train), lm.predict(X_train) - y_train, color = 'red', label = 'Train data')\n",
    "plt.scatter(lm.predict(X_test), lm.predict(X_test) - y_test, color = 'blue', label = 'Test data')\n",
    "plt.hlines(xmin = 0, xmax = 50, y = 0, linewidth = 3)\n",
    "plt.title('Residual errors')\n",
    "plt.legend(loc = 4)\n",
    "plt.show()"
   ],
   "outputs": [],
   "execution_count": null
  },
  {
   "cell_type": "markdown",
   "metadata": {
    "id": "52Ouq7wkcGsz"
   },
   "source": [
    "## Checking for Overfitting and Underfitting\n",
    "We calculate the training set score as 0.2861. Similarly, we calculate the test set score as 0.5789. The training set score is very poor. So, the model does not learn the relationships appropriately from the training data.\n",
    "\n",
    "Since the model performs poorly on the training data, it is a  sign of \"underfitting\". Underfitting means our model performs poorly on the training data. It means the model does not capture the relationships between the training data. This problem can be improved by increasing model complexity. We should use more powerful models like Polynomial regression to increase model complexity."
   ]
  },
  {
   "cell_type": "code",
   "metadata": {
    "colab": {
     "base_uri": "https://localhost:8080/",
     "height": 472
    },
    "id": "IUQlnA6HcJ_F",
    "outputId": "d3f2eef8-cacc-45e3-c40d-6e9b7670f24c"
   },
   "source": [
    "# Plot the Regression Line\n",
    "\n",
    "plt.scatter(X, y, color = 'blue', label='Scatter Plot')\n",
    "plt.plot(X_test, y_pred, color = 'black', linewidth=3, label = 'Regression Line')\n",
    "plt.title('Relationship between Sales and Advertising')\n",
    "plt.xlabel('Sales')\n",
    "plt.ylabel('Advertising')\n",
    "plt.legend(loc=4)\n",
    "plt.show()"
   ],
   "outputs": [],
   "execution_count": null
  }
 ],
 "metadata": {
  "colab": {
   "provenance": []
  },
  "kernelspec": {
   "display_name": "Python 3",
   "name": "python3"
  },
  "language_info": {
   "codemirror_mode": {
    "name": "ipython",
    "version": 3
   },
   "file_extension": ".py",
   "mimetype": "text/x-python",
   "name": "python",
   "nbconvert_exporter": "python",
   "pygments_lexer": "ipython3",
   "version": "3.12.1"
  }
 },
 "nbformat": 4,
 "nbformat_minor": 0
}
